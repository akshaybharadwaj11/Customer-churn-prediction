{
  "cells": [
    {
      "cell_type": "markdown",
      "id": "da90452e",
      "metadata": {
        "id": "da90452e"
      },
      "source": [
        "# Customer Churn Prediction for a Bank"
      ]
    },
    {
      "cell_type": "markdown",
      "id": "cf04505b",
      "metadata": {
        "id": "cf04505b"
      },
      "source": [
        "## Abstract\n",
        "\n",
        "Customer churn refers to the problem where customers stop all their associations with a certain organization. This phoenomenon is often observed in the Banking sector where customers close their banking accounts or stop enrolling into services offered by a bank. In this notebook we use the customer details from ABC bank and understand the significant factors associated with the customer churn and build a binary classification model to help predict whether a customer is likely to churn. The dataset contains 11 independent variables. The target variable/dependent variable is the churn variable, which indicates whether the customer would churn or not. In this experiment we are using a linear model (Logistic Regression), a tree based model(Decision Tree) and H2O autoML framework to train and test various models and select the best model that would help us best classify the data. To understand the significance of features we use SHAP analysis, Partial Dependence Plots and Individual Conditional expectation plots to understand the influence of each feature on the prediction. It is found that the Gradient Boosting model was the best performer with accuracy of ~86% in the automl leaderboard. From the analysis, it is found that age is the most significant feature to identify if a customer is likely to churn, that is common across all algorithms. active_member and products_number features are next most significant features, that could significantly impact the decision making capabilities of a model."
      ]
    },
    {
      "cell_type": "markdown",
      "id": "15e048aa",
      "metadata": {
        "id": "15e048aa"
      },
      "source": [
        "## Objective\n",
        "\n",
        "In this notebook, we use the H2O AutoML framework to perform Binary Classification on the Bank Customer Churn prediction dataset.\n",
        "\n",
        "* What are the data types? (Only numeric and categorical)\n",
        "\n",
        "* Are there missing values?\n",
        "\n",
        "* What are the likely distributions of the numeric variables?\n",
        "\n",
        "* Which independent variables are useful to predict a target (dependent variable)? (Use at least three methods)\n",
        "\n",
        "* Which independent variables have missing data? How much?\n",
        "\n",
        "* Do the training and test sets have the same data?\n",
        "\n",
        "* In the predictor variables independent of all the other predictor variables?\n",
        "\n",
        "* Which predictor variables are the most important?\n",
        "\n",
        "* Do the ranges of the predictor variables make sense?\n",
        "\n",
        "* What are the distributions of the predictor variables?   \n",
        "\n",
        "* Remove outliers and keep outliers (does if have an effect of the final predictive model)?\n",
        "\n",
        "* Remove 1%, 5%, and 10% of your data randomly and impute the values back using at least 3 imputation methods. How well did the methods recover the missing values?  That is remove some data, check the % error on residuals for numeric data and check for bias and variance of the error.For categorical data, calculate the accuracy and a confusion matrix.\n",
        "    \n",
        "* Is the relationship significant?\n",
        "\n",
        "* Are any model assumptions violated?\n",
        "\n",
        "* Is there any multicollinearity in the model?\n",
        "\n",
        "* In the multivariate models are predictor variables independent of all the other predictor variables?\n",
        "\n",
        "* In multivariate models rank the most significant predictor variables and exclude insignificant ones from the model.\n",
        "\n",
        "* Does the model make sense?\n",
        "\n",
        "* Does regularization help?\n",
        "\n",
        "* Which independent variables are significant?\n",
        "\n",
        "* Which hyperparameters are important?\n",
        "\n",
        "* Fit a linear model and interpret the regression coefficients\n",
        "\n",
        "* Fit a tree-based model and interpret the nodes\n",
        "\n",
        "* Use auto ml to find the best model\n",
        "\n",
        "* Run SHAP analysis on the models, interpret the SHAP values and compare them with the other model interpretability methods."
      ]
    },
    {
      "cell_type": "markdown",
      "id": "5620020f",
      "metadata": {
        "id": "5620020f"
      },
      "source": [
        "### Dataset\n",
        "\n",
        "This dataset has 10000 records and 12 columns(11 features and a target variable(Churn) containing details of customers for ABC Multistate bank.\n",
        "\n",
        "* customer_id - unique id representing each customer\n",
        "* credit_score - credit score for each customer\n",
        "* country - location of the account\n",
        "* gender - customer gender\n",
        "* age - age of customer\n",
        "* tenure -  duration with the bank for each customer\n",
        "* balance - account balance\n",
        "* products_number -  number of bank products utilized by the customer\n",
        "* credit_card - no of credit cards held by customer\n",
        "* active_member - 0 or 1, does the customer regularly use the services offered by the bank\n",
        "* estimated_salary -  salary of customer\n",
        "* churn - target variable. 1 if the client has left the bank during some period or 0 if he/she has not.\n"
      ]
    },
    {
      "cell_type": "code",
      "execution_count": 1,
      "id": "1Dv7iURcOMHG",
      "metadata": {
        "colab": {
          "base_uri": "https://localhost:8080/"
        },
        "id": "1Dv7iURcOMHG",
        "outputId": "619eac50-eb48-41a8-ae4f-645751422550"
      },
      "outputs": [
        {
          "name": "stdout",
          "output_type": "stream",
          "text": [
            "Requirement already satisfied: h2o in /usr/local/lib/python3.10/dist-packages (3.44.0.2)\n",
            "Requirement already satisfied: requests in /usr/local/lib/python3.10/dist-packages (from h2o) (2.31.0)\n",
            "Requirement already satisfied: tabulate in /usr/local/lib/python3.10/dist-packages (from h2o) (0.9.0)\n",
            "Requirement already satisfied: charset-normalizer<4,>=2 in /usr/local/lib/python3.10/dist-packages (from requests->h2o) (3.3.2)\n",
            "Requirement already satisfied: idna<4,>=2.5 in /usr/local/lib/python3.10/dist-packages (from requests->h2o) (3.6)\n",
            "Requirement already satisfied: urllib3<3,>=1.21.1 in /usr/local/lib/python3.10/dist-packages (from requests->h2o) (2.0.7)\n",
            "Requirement already satisfied: certifi>=2017.4.17 in /usr/local/lib/python3.10/dist-packages (from requests->h2o) (2023.11.17)\n",
            "Requirement already satisfied: shap in /usr/local/lib/python3.10/dist-packages (0.44.0)\n",
            "Requirement already satisfied: numpy in /usr/local/lib/python3.10/dist-packages (from shap) (1.23.5)\n",
            "Requirement already satisfied: scipy in /usr/local/lib/python3.10/dist-packages (from shap) (1.11.4)\n",
            "Requirement already satisfied: scikit-learn in /usr/local/lib/python3.10/dist-packages (from shap) (1.2.2)\n",
            "Requirement already satisfied: pandas in /usr/local/lib/python3.10/dist-packages (from shap) (1.5.3)\n",
            "Requirement already satisfied: tqdm>=4.27.0 in /usr/local/lib/python3.10/dist-packages (from shap) (4.66.1)\n",
            "Requirement already satisfied: packaging>20.9 in /usr/local/lib/python3.10/dist-packages (from shap) (23.2)\n",
            "Requirement already satisfied: slicer==0.0.7 in /usr/local/lib/python3.10/dist-packages (from shap) (0.0.7)\n",
            "Requirement already satisfied: numba in /usr/local/lib/python3.10/dist-packages (from shap) (0.58.1)\n",
            "Requirement already satisfied: cloudpickle in /usr/local/lib/python3.10/dist-packages (from shap) (2.2.1)\n",
            "Requirement already satisfied: llvmlite<0.42,>=0.41.0dev0 in /usr/local/lib/python3.10/dist-packages (from numba->shap) (0.41.1)\n",
            "Requirement already satisfied: python-dateutil>=2.8.1 in /usr/local/lib/python3.10/dist-packages (from pandas->shap) (2.8.2)\n",
            "Requirement already satisfied: pytz>=2020.1 in /usr/local/lib/python3.10/dist-packages (from pandas->shap) (2023.3.post1)\n",
            "Requirement already satisfied: joblib>=1.1.1 in /usr/local/lib/python3.10/dist-packages (from scikit-learn->shap) (1.3.2)\n",
            "Requirement already satisfied: threadpoolctl>=2.0.0 in /usr/local/lib/python3.10/dist-packages (from scikit-learn->shap) (3.2.0)\n",
            "Requirement already satisfied: six>=1.5 in /usr/local/lib/python3.10/dist-packages (from python-dateutil>=2.8.1->pandas->shap) (1.16.0)\n"
          ]
        }
      ],
      "source": [
        "! pip install -q kaggle\n",
        "! pip install h2o\n",
        "! pip install shap"
      ]
    },
    {
      "cell_type": "code",
      "execution_count": 2,
      "id": "7u4I8JG1PnEQ",
      "metadata": {
        "id": "7u4I8JG1PnEQ"
      },
      "outputs": [],
      "source": [
        "from google.colab import files"
      ]
    },
    {
      "cell_type": "code",
      "execution_count": 3,
      "id": "pbyUdGwrPrFw",
      "metadata": {
        "colab": {
          "base_uri": "https://localhost:8080/",
          "height": 92
        },
        "id": "pbyUdGwrPrFw",
        "outputId": "9a1ec9e9-f72d-437b-d917-8c4cd9a4f12b"
      },
      "outputs": [
        {
          "data": {
            "text/html": [
              "\n",
              "     <input type=\"file\" id=\"files-679055cb-d202-48df-a662-f65ae47f45af\" name=\"files[]\" multiple disabled\n",
              "        style=\"border:none\" />\n",
              "     <output id=\"result-679055cb-d202-48df-a662-f65ae47f45af\">\n",
              "      Upload widget is only available when the cell has been executed in the\n",
              "      current browser session. Please rerun this cell to enable.\n",
              "      </output>\n",
              "      <script>// Copyright 2017 Google LLC\n",
              "//\n",
              "// Licensed under the Apache License, Version 2.0 (the \"License\");\n",
              "// you may not use this file except in compliance with the License.\n",
              "// You may obtain a copy of the License at\n",
              "//\n",
              "//      http://www.apache.org/licenses/LICENSE-2.0\n",
              "//\n",
              "// Unless required by applicable law or agreed to in writing, software\n",
              "// distributed under the License is distributed on an \"AS IS\" BASIS,\n",
              "// WITHOUT WARRANTIES OR CONDITIONS OF ANY KIND, either express or implied.\n",
              "// See the License for the specific language governing permissions and\n",
              "// limitations under the License.\n",
              "\n",
              "/**\n",
              " * @fileoverview Helpers for google.colab Python module.\n",
              " */\n",
              "(function(scope) {\n",
              "function span(text, styleAttributes = {}) {\n",
              "  const element = document.createElement('span');\n",
              "  element.textContent = text;\n",
              "  for (const key of Object.keys(styleAttributes)) {\n",
              "    element.style[key] = styleAttributes[key];\n",
              "  }\n",
              "  return element;\n",
              "}\n",
              "\n",
              "// Max number of bytes which will be uploaded at a time.\n",
              "const MAX_PAYLOAD_SIZE = 100 * 1024;\n",
              "\n",
              "function _uploadFiles(inputId, outputId) {\n",
              "  const steps = uploadFilesStep(inputId, outputId);\n",
              "  const outputElement = document.getElementById(outputId);\n",
              "  // Cache steps on the outputElement to make it available for the next call\n",
              "  // to uploadFilesContinue from Python.\n",
              "  outputElement.steps = steps;\n",
              "\n",
              "  return _uploadFilesContinue(outputId);\n",
              "}\n",
              "\n",
              "// This is roughly an async generator (not supported in the browser yet),\n",
              "// where there are multiple asynchronous steps and the Python side is going\n",
              "// to poll for completion of each step.\n",
              "// This uses a Promise to block the python side on completion of each step,\n",
              "// then passes the result of the previous step as the input to the next step.\n",
              "function _uploadFilesContinue(outputId) {\n",
              "  const outputElement = document.getElementById(outputId);\n",
              "  const steps = outputElement.steps;\n",
              "\n",
              "  const next = steps.next(outputElement.lastPromiseValue);\n",
              "  return Promise.resolve(next.value.promise).then((value) => {\n",
              "    // Cache the last promise value to make it available to the next\n",
              "    // step of the generator.\n",
              "    outputElement.lastPromiseValue = value;\n",
              "    return next.value.response;\n",
              "  });\n",
              "}\n",
              "\n",
              "/**\n",
              " * Generator function which is called between each async step of the upload\n",
              " * process.\n",
              " * @param {string} inputId Element ID of the input file picker element.\n",
              " * @param {string} outputId Element ID of the output display.\n",
              " * @return {!Iterable<!Object>} Iterable of next steps.\n",
              " */\n",
              "function* uploadFilesStep(inputId, outputId) {\n",
              "  const inputElement = document.getElementById(inputId);\n",
              "  inputElement.disabled = false;\n",
              "\n",
              "  const outputElement = document.getElementById(outputId);\n",
              "  outputElement.innerHTML = '';\n",
              "\n",
              "  const pickedPromise = new Promise((resolve) => {\n",
              "    inputElement.addEventListener('change', (e) => {\n",
              "      resolve(e.target.files);\n",
              "    });\n",
              "  });\n",
              "\n",
              "  const cancel = document.createElement('button');\n",
              "  inputElement.parentElement.appendChild(cancel);\n",
              "  cancel.textContent = 'Cancel upload';\n",
              "  const cancelPromise = new Promise((resolve) => {\n",
              "    cancel.onclick = () => {\n",
              "      resolve(null);\n",
              "    };\n",
              "  });\n",
              "\n",
              "  // Wait for the user to pick the files.\n",
              "  const files = yield {\n",
              "    promise: Promise.race([pickedPromise, cancelPromise]),\n",
              "    response: {\n",
              "      action: 'starting',\n",
              "    }\n",
              "  };\n",
              "\n",
              "  cancel.remove();\n",
              "\n",
              "  // Disable the input element since further picks are not allowed.\n",
              "  inputElement.disabled = true;\n",
              "\n",
              "  if (!files) {\n",
              "    return {\n",
              "      response: {\n",
              "        action: 'complete',\n",
              "      }\n",
              "    };\n",
              "  }\n",
              "\n",
              "  for (const file of files) {\n",
              "    const li = document.createElement('li');\n",
              "    li.append(span(file.name, {fontWeight: 'bold'}));\n",
              "    li.append(span(\n",
              "        `(${file.type || 'n/a'}) - ${file.size} bytes, ` +\n",
              "        `last modified: ${\n",
              "            file.lastModifiedDate ? file.lastModifiedDate.toLocaleDateString() :\n",
              "                                    'n/a'} - `));\n",
              "    const percent = span('0% done');\n",
              "    li.appendChild(percent);\n",
              "\n",
              "    outputElement.appendChild(li);\n",
              "\n",
              "    const fileDataPromise = new Promise((resolve) => {\n",
              "      const reader = new FileReader();\n",
              "      reader.onload = (e) => {\n",
              "        resolve(e.target.result);\n",
              "      };\n",
              "      reader.readAsArrayBuffer(file);\n",
              "    });\n",
              "    // Wait for the data to be ready.\n",
              "    let fileData = yield {\n",
              "      promise: fileDataPromise,\n",
              "      response: {\n",
              "        action: 'continue',\n",
              "      }\n",
              "    };\n",
              "\n",
              "    // Use a chunked sending to avoid message size limits. See b/62115660.\n",
              "    let position = 0;\n",
              "    do {\n",
              "      const length = Math.min(fileData.byteLength - position, MAX_PAYLOAD_SIZE);\n",
              "      const chunk = new Uint8Array(fileData, position, length);\n",
              "      position += length;\n",
              "\n",
              "      const base64 = btoa(String.fromCharCode.apply(null, chunk));\n",
              "      yield {\n",
              "        response: {\n",
              "          action: 'append',\n",
              "          file: file.name,\n",
              "          data: base64,\n",
              "        },\n",
              "      };\n",
              "\n",
              "      let percentDone = fileData.byteLength === 0 ?\n",
              "          100 :\n",
              "          Math.round((position / fileData.byteLength) * 100);\n",
              "      percent.textContent = `${percentDone}% done`;\n",
              "\n",
              "    } while (position < fileData.byteLength);\n",
              "  }\n",
              "\n",
              "  // All done.\n",
              "  yield {\n",
              "    response: {\n",
              "      action: 'complete',\n",
              "    }\n",
              "  };\n",
              "}\n",
              "\n",
              "scope.google = scope.google || {};\n",
              "scope.google.colab = scope.google.colab || {};\n",
              "scope.google.colab._files = {\n",
              "  _uploadFiles,\n",
              "  _uploadFilesContinue,\n",
              "};\n",
              "})(self);\n",
              "</script> "
            ],
            "text/plain": [
              "<IPython.core.display.HTML object>"
            ]
          },
          "metadata": {},
          "output_type": "display_data"
        },
        {
          "name": "stdout",
          "output_type": "stream",
          "text": [
            "Saving kaggle.json to kaggle (1).json\n"
          ]
        },
        {
          "data": {
            "text/plain": [
              "{'kaggle (1).json': b'{\"username\":\"akshaybharadwaj\",\"key\":\"78ef417f09742e18e2754849a94ee3f6\"}'}"
            ]
          },
          "execution_count": 3,
          "metadata": {},
          "output_type": "execute_result"
        }
      ],
      "source": [
        "# files.upload()"
      ]
    },
    {
      "cell_type": "code",
      "execution_count": 4,
      "id": "UIpnqSnaORR3",
      "metadata": {
        "colab": {
          "base_uri": "https://localhost:8080/"
        },
        "id": "UIpnqSnaORR3",
        "outputId": "b6c74077-e549-4a05-fc50-516d2e41db49"
      },
      "outputs": [
        {
          "name": "stdout",
          "output_type": "stream",
          "text": [
            "mkdir: cannot create directory ‘/root/.kaggle’: File exists\n"
          ]
        }
      ],
      "source": [
        "mkdir ~/.kaggle"
      ]
    },
    {
      "cell_type": "code",
      "execution_count": 5,
      "id": "qtvxAEY2OUhi",
      "metadata": {
        "id": "qtvxAEY2OUhi"
      },
      "outputs": [],
      "source": [
        "cp kaggle.json ~/.kaggle/"
      ]
    },
    {
      "cell_type": "code",
      "execution_count": 6,
      "id": "bC3SBNxBOd6K",
      "metadata": {
        "id": "bC3SBNxBOd6K"
      },
      "outputs": [],
      "source": [
        "! chmod 600 ~/.kaggle/kaggle.json"
      ]
    },
    {
      "cell_type": "code",
      "execution_count": 7,
      "id": "lhSnyvuxOkqP",
      "metadata": {
        "colab": {
          "base_uri": "https://localhost:8080/"
        },
        "id": "lhSnyvuxOkqP",
        "outputId": "ebcbf486-ac04-44c7-a093-f1bc8f1a9eb9"
      },
      "outputs": [
        {
          "name": "stdout",
          "output_type": "stream",
          "text": [
            "bank-customer-churn-dataset.zip: Skipping, found more recently modified local copy (use --force to force download)\n"
          ]
        }
      ],
      "source": [
        "! kaggle datasets download gauravtopre/bank-customer-churn-dataset"
      ]
    },
    {
      "cell_type": "code",
      "execution_count": null,
      "id": "Aur-rF1tO2Du",
      "metadata": {
        "colab": {
          "base_uri": "https://localhost:8080/"
        },
        "id": "Aur-rF1tO2Du",
        "outputId": "9d931a7f-26df-452c-e92e-1b88ee103cb1"
      },
      "outputs": [
        {
          "name": "stdout",
          "output_type": "stream",
          "text": [
            "Archive:  bank-customer-churn-dataset.zip\n",
            "replace Bank Customer Churn Prediction.csv? [y]es, [n]o, [A]ll, [N]one, [r]ename: "
          ]
        }
      ],
      "source": [
        "! unzip bank-customer-churn-dataset.zip"
      ]
    },
    {
      "cell_type": "code",
      "execution_count": 1,
      "id": "ed08c93b",
      "metadata": {
        "id": "ed08c93b"
      },
      "outputs": [
        {
          "name": "stdout",
          "output_type": "stream",
          "text": [
            "Checking whether there is an H2O instance running at http://localhost:54321. connected.\n"
          ]
        },
        {
          "data": {
            "text/html": [
              "\n",
              "<style>\n",
              "\n",
              "#h2o-table-1.h2o-container {\n",
              "  overflow-x: auto;\n",
              "}\n",
              "#h2o-table-1 .h2o-table {\n",
              "  /* width: 100%; */\n",
              "  margin-top: 1em;\n",
              "  margin-bottom: 1em;\n",
              "}\n",
              "#h2o-table-1 .h2o-table caption {\n",
              "  white-space: nowrap;\n",
              "  caption-side: top;\n",
              "  text-align: left;\n",
              "  /* margin-left: 1em; */\n",
              "  margin: 0;\n",
              "  font-size: larger;\n",
              "}\n",
              "#h2o-table-1 .h2o-table thead {\n",
              "  white-space: nowrap; \n",
              "  position: sticky;\n",
              "  top: 0;\n",
              "  box-shadow: 0 -1px inset;\n",
              "}\n",
              "#h2o-table-1 .h2o-table tbody {\n",
              "  overflow: auto;\n",
              "}\n",
              "#h2o-table-1 .h2o-table th,\n",
              "#h2o-table-1 .h2o-table td {\n",
              "  text-align: right;\n",
              "  /* border: 1px solid; */\n",
              "}\n",
              "#h2o-table-1 .h2o-table tr:nth-child(even) {\n",
              "  /* background: #F5F5F5 */\n",
              "}\n",
              "\n",
              "</style>      \n",
              "<div id=\"h2o-table-1\" class=\"h2o-container\">\n",
              "  <table class=\"h2o-table\">\n",
              "    <caption></caption>\n",
              "    <thead></thead>\n",
              "    <tbody><tr><td>H2O_cluster_uptime:</td>\n",
              "<td>1 min 42 secs</td></tr>\n",
              "<tr><td>H2O_cluster_timezone:</td>\n",
              "<td>America/New_York</td></tr>\n",
              "<tr><td>H2O_data_parsing_timezone:</td>\n",
              "<td>UTC</td></tr>\n",
              "<tr><td>H2O_cluster_version:</td>\n",
              "<td>3.44.0.1</td></tr>\n",
              "<tr><td>H2O_cluster_version_age:</td>\n",
              "<td>1 month and 25 days</td></tr>\n",
              "<tr><td>H2O_cluster_name:</td>\n",
              "<td>H2O_from_python_akshaybharadwaj_kuird8</td></tr>\n",
              "<tr><td>H2O_cluster_total_nodes:</td>\n",
              "<td>1</td></tr>\n",
              "<tr><td>H2O_cluster_free_memory:</td>\n",
              "<td>1.981 Gb</td></tr>\n",
              "<tr><td>H2O_cluster_total_cores:</td>\n",
              "<td>8</td></tr>\n",
              "<tr><td>H2O_cluster_allowed_cores:</td>\n",
              "<td>8</td></tr>\n",
              "<tr><td>H2O_cluster_status:</td>\n",
              "<td>locked, healthy</td></tr>\n",
              "<tr><td>H2O_connection_url:</td>\n",
              "<td>http://localhost:54321</td></tr>\n",
              "<tr><td>H2O_connection_proxy:</td>\n",
              "<td>{\"http\": null, \"https\": null}</td></tr>\n",
              "<tr><td>H2O_internal_security:</td>\n",
              "<td>False</td></tr>\n",
              "<tr><td>Python_version:</td>\n",
              "<td>3.11.0 final</td></tr></tbody>\n",
              "  </table>\n",
              "</div>\n"
            ],
            "text/plain": [
              "--------------------------  --------------------------------------\n",
              "H2O_cluster_uptime:         1 min 42 secs\n",
              "H2O_cluster_timezone:       America/New_York\n",
              "H2O_data_parsing_timezone:  UTC\n",
              "H2O_cluster_version:        3.44.0.1\n",
              "H2O_cluster_version_age:    1 month and 25 days\n",
              "H2O_cluster_name:           H2O_from_python_akshaybharadwaj_kuird8\n",
              "H2O_cluster_total_nodes:    1\n",
              "H2O_cluster_free_memory:    1.981 Gb\n",
              "H2O_cluster_total_cores:    8\n",
              "H2O_cluster_allowed_cores:  8\n",
              "H2O_cluster_status:         locked, healthy\n",
              "H2O_connection_url:         http://localhost:54321\n",
              "H2O_connection_proxy:       {\"http\": null, \"https\": null}\n",
              "H2O_internal_security:      False\n",
              "Python_version:             3.11.0 final\n",
              "--------------------------  --------------------------------------"
            ]
          },
          "metadata": {},
          "output_type": "display_data"
        }
      ],
      "source": [
        "import pandas as pd\n",
        "import numpy as np\n",
        "import sklearn\n",
        "import matplotlib.pyplot as plt\n",
        "from matplotlib.cbook import boxplot_stats\n",
        "import seaborn as sns\n",
        "%matplotlib inline\n",
        "from sklearn.decomposition import PCA\n",
        "from sklearn.linear_model import LogisticRegression\n",
        "from sklearn.metrics import classification_report,confusion_matrix\n",
        "from sklearn.datasets import make_classification\n",
        "from sklearn.model_selection import train_test_split\n",
        "from sklearn.ensemble import RandomForestClassifier, GradientBoostingClassifier\n",
        "from sklearn.preprocessing import RobustScaler\n",
        "import h2o\n",
        "from h2o.automl import H2OAutoML\n",
        "import scipy.stats as stats\n",
        "from scipy.stats import chi2_contingency\n",
        "from h2o.grid.grid_search import H2OGridSearch\n",
        "from h2o.estimators import H2OGradientBoostingEstimator\n",
        "import shap\n",
        "import graphviz\n",
        "from sklearn.tree import plot_tree\n",
        "from sklearn.metrics import accuracy_score, mean_squared_error\n",
        "from sklearn.metrics import roc_curve, roc_auc_score, auc\n",
        "from sklearn.impute import SimpleImputer, KNNImputer\n",
        "from sklearn.inspection import PartialDependenceDisplay\n",
        "# Initialize H2O cluster\n",
        "h2o.init()\n"
      ]
    },
    {
      "cell_type": "code",
      "execution_count": 2,
      "id": "edaa827b",
      "metadata": {
        "collapsed": true,
        "id": "edaa827b"
      },
      "outputs": [],
      "source": [
        "# !pip install h2o"
      ]
    },
    {
      "cell_type": "markdown",
      "id": "b1d90223",
      "metadata": {
        "id": "b1d90223"
      },
      "source": [
        "## Exploratory Data Analysis"
      ]
    },
    {
      "cell_type": "code",
      "execution_count": 3,
      "id": "74e557d1",
      "metadata": {
        "id": "74e557d1"
      },
      "outputs": [],
      "source": [
        "# Load the data\n",
        "\n",
        "df_churn_original = pd.read_csv(\"Bank Customer Churn Prediction.csv\")"
      ]
    },
    {
      "cell_type": "code",
      "execution_count": 4,
      "id": "880e87ce",
      "metadata": {
        "id": "880e87ce"
      },
      "outputs": [
        {
          "name": "stdout",
          "output_type": "stream",
          "text": [
            "No of Rows : 10000 \n",
            "No of Columns : 12\n"
          ]
        }
      ],
      "source": [
        "# Check the dimensions of the Data\n",
        "print(\"No of Rows : {} \\nNo of Columns : {}\".format(df_churn_original.shape[0], df_churn_original.shape[1]))"
      ]
    },
    {
      "cell_type": "code",
      "execution_count": 5,
      "id": "807aa94d",
      "metadata": {
        "id": "807aa94d"
      },
      "outputs": [
        {
          "data": {
            "text/html": [
              "<div>\n",
              "<style scoped>\n",
              "    .dataframe tbody tr th:only-of-type {\n",
              "        vertical-align: middle;\n",
              "    }\n",
              "\n",
              "    .dataframe tbody tr th {\n",
              "        vertical-align: top;\n",
              "    }\n",
              "\n",
              "    .dataframe thead th {\n",
              "        text-align: right;\n",
              "    }\n",
              "</style>\n",
              "<table border=\"1\" class=\"dataframe\">\n",
              "  <thead>\n",
              "    <tr style=\"text-align: right;\">\n",
              "      <th></th>\n",
              "      <th>customer_id</th>\n",
              "      <th>credit_score</th>\n",
              "      <th>country</th>\n",
              "      <th>gender</th>\n",
              "      <th>age</th>\n",
              "      <th>tenure</th>\n",
              "      <th>balance</th>\n",
              "      <th>products_number</th>\n",
              "      <th>credit_card</th>\n",
              "      <th>active_member</th>\n",
              "      <th>estimated_salary</th>\n",
              "      <th>churn</th>\n",
              "    </tr>\n",
              "  </thead>\n",
              "  <tbody>\n",
              "    <tr>\n",
              "      <th>0</th>\n",
              "      <td>15634602</td>\n",
              "      <td>619</td>\n",
              "      <td>France</td>\n",
              "      <td>Female</td>\n",
              "      <td>42</td>\n",
              "      <td>2</td>\n",
              "      <td>0.00</td>\n",
              "      <td>1</td>\n",
              "      <td>1</td>\n",
              "      <td>1</td>\n",
              "      <td>101348.88</td>\n",
              "      <td>1</td>\n",
              "    </tr>\n",
              "    <tr>\n",
              "      <th>1</th>\n",
              "      <td>15647311</td>\n",
              "      <td>608</td>\n",
              "      <td>Spain</td>\n",
              "      <td>Female</td>\n",
              "      <td>41</td>\n",
              "      <td>1</td>\n",
              "      <td>83807.86</td>\n",
              "      <td>1</td>\n",
              "      <td>0</td>\n",
              "      <td>1</td>\n",
              "      <td>112542.58</td>\n",
              "      <td>0</td>\n",
              "    </tr>\n",
              "    <tr>\n",
              "      <th>2</th>\n",
              "      <td>15619304</td>\n",
              "      <td>502</td>\n",
              "      <td>France</td>\n",
              "      <td>Female</td>\n",
              "      <td>42</td>\n",
              "      <td>8</td>\n",
              "      <td>159660.80</td>\n",
              "      <td>3</td>\n",
              "      <td>1</td>\n",
              "      <td>0</td>\n",
              "      <td>113931.57</td>\n",
              "      <td>1</td>\n",
              "    </tr>\n",
              "    <tr>\n",
              "      <th>3</th>\n",
              "      <td>15701354</td>\n",
              "      <td>699</td>\n",
              "      <td>France</td>\n",
              "      <td>Female</td>\n",
              "      <td>39</td>\n",
              "      <td>1</td>\n",
              "      <td>0.00</td>\n",
              "      <td>2</td>\n",
              "      <td>0</td>\n",
              "      <td>0</td>\n",
              "      <td>93826.63</td>\n",
              "      <td>0</td>\n",
              "    </tr>\n",
              "    <tr>\n",
              "      <th>4</th>\n",
              "      <td>15737888</td>\n",
              "      <td>850</td>\n",
              "      <td>Spain</td>\n",
              "      <td>Female</td>\n",
              "      <td>43</td>\n",
              "      <td>2</td>\n",
              "      <td>125510.82</td>\n",
              "      <td>1</td>\n",
              "      <td>1</td>\n",
              "      <td>1</td>\n",
              "      <td>79084.10</td>\n",
              "      <td>0</td>\n",
              "    </tr>\n",
              "    <tr>\n",
              "      <th>...</th>\n",
              "      <td>...</td>\n",
              "      <td>...</td>\n",
              "      <td>...</td>\n",
              "      <td>...</td>\n",
              "      <td>...</td>\n",
              "      <td>...</td>\n",
              "      <td>...</td>\n",
              "      <td>...</td>\n",
              "      <td>...</td>\n",
              "      <td>...</td>\n",
              "      <td>...</td>\n",
              "      <td>...</td>\n",
              "    </tr>\n",
              "    <tr>\n",
              "      <th>9995</th>\n",
              "      <td>15606229</td>\n",
              "      <td>771</td>\n",
              "      <td>France</td>\n",
              "      <td>Male</td>\n",
              "      <td>39</td>\n",
              "      <td>5</td>\n",
              "      <td>0.00</td>\n",
              "      <td>2</td>\n",
              "      <td>1</td>\n",
              "      <td>0</td>\n",
              "      <td>96270.64</td>\n",
              "      <td>0</td>\n",
              "    </tr>\n",
              "    <tr>\n",
              "      <th>9996</th>\n",
              "      <td>15569892</td>\n",
              "      <td>516</td>\n",
              "      <td>France</td>\n",
              "      <td>Male</td>\n",
              "      <td>35</td>\n",
              "      <td>10</td>\n",
              "      <td>57369.61</td>\n",
              "      <td>1</td>\n",
              "      <td>1</td>\n",
              "      <td>1</td>\n",
              "      <td>101699.77</td>\n",
              "      <td>0</td>\n",
              "    </tr>\n",
              "    <tr>\n",
              "      <th>9997</th>\n",
              "      <td>15584532</td>\n",
              "      <td>709</td>\n",
              "      <td>France</td>\n",
              "      <td>Female</td>\n",
              "      <td>36</td>\n",
              "      <td>7</td>\n",
              "      <td>0.00</td>\n",
              "      <td>1</td>\n",
              "      <td>0</td>\n",
              "      <td>1</td>\n",
              "      <td>42085.58</td>\n",
              "      <td>1</td>\n",
              "    </tr>\n",
              "    <tr>\n",
              "      <th>9998</th>\n",
              "      <td>15682355</td>\n",
              "      <td>772</td>\n",
              "      <td>Germany</td>\n",
              "      <td>Male</td>\n",
              "      <td>42</td>\n",
              "      <td>3</td>\n",
              "      <td>75075.31</td>\n",
              "      <td>2</td>\n",
              "      <td>1</td>\n",
              "      <td>0</td>\n",
              "      <td>92888.52</td>\n",
              "      <td>1</td>\n",
              "    </tr>\n",
              "    <tr>\n",
              "      <th>9999</th>\n",
              "      <td>15628319</td>\n",
              "      <td>792</td>\n",
              "      <td>France</td>\n",
              "      <td>Female</td>\n",
              "      <td>28</td>\n",
              "      <td>4</td>\n",
              "      <td>130142.79</td>\n",
              "      <td>1</td>\n",
              "      <td>1</td>\n",
              "      <td>0</td>\n",
              "      <td>38190.78</td>\n",
              "      <td>0</td>\n",
              "    </tr>\n",
              "  </tbody>\n",
              "</table>\n",
              "<p>10000 rows × 12 columns</p>\n",
              "</div>"
            ],
            "text/plain": [
              "      customer_id  credit_score  country  gender  age  tenure    balance  \\\n",
              "0        15634602           619   France  Female   42       2       0.00   \n",
              "1        15647311           608    Spain  Female   41       1   83807.86   \n",
              "2        15619304           502   France  Female   42       8  159660.80   \n",
              "3        15701354           699   France  Female   39       1       0.00   \n",
              "4        15737888           850    Spain  Female   43       2  125510.82   \n",
              "...           ...           ...      ...     ...  ...     ...        ...   \n",
              "9995     15606229           771   France    Male   39       5       0.00   \n",
              "9996     15569892           516   France    Male   35      10   57369.61   \n",
              "9997     15584532           709   France  Female   36       7       0.00   \n",
              "9998     15682355           772  Germany    Male   42       3   75075.31   \n",
              "9999     15628319           792   France  Female   28       4  130142.79   \n",
              "\n",
              "      products_number  credit_card  active_member  estimated_salary  churn  \n",
              "0                   1            1              1         101348.88      1  \n",
              "1                   1            0              1         112542.58      0  \n",
              "2                   3            1              0         113931.57      1  \n",
              "3                   2            0              0          93826.63      0  \n",
              "4                   1            1              1          79084.10      0  \n",
              "...               ...          ...            ...               ...    ...  \n",
              "9995                2            1              0          96270.64      0  \n",
              "9996                1            1              1         101699.77      0  \n",
              "9997                1            0              1          42085.58      1  \n",
              "9998                2            1              0          92888.52      1  \n",
              "9999                1            1              0          38190.78      0  \n",
              "\n",
              "[10000 rows x 12 columns]"
            ]
          },
          "execution_count": 5,
          "metadata": {},
          "output_type": "execute_result"
        }
      ],
      "source": [
        "# Display the dataframe\n",
        "\n",
        "df_churn_original"
      ]
    },
    {
      "cell_type": "code",
      "execution_count": 6,
      "id": "ba3f9abc",
      "metadata": {
        "id": "ba3f9abc"
      },
      "outputs": [],
      "source": [
        "df_churn_original['churn'] = pd.Categorical(df_churn_original['churn'])\n",
        "df_churn_original = df_churn_original.drop('customer_id', axis=1)\n",
        "df_churn_original['active_member'] = pd.Categorical(df_churn_original['active_member'])"
      ]
    },
    {
      "cell_type": "markdown",
      "id": "RnH01-tx1t4I",
      "metadata": {
        "id": "RnH01-tx1t4I"
      },
      "source": [
        "### Q1. What are the data types? (Only numeric and categorical)"
      ]
    },
    {
      "cell_type": "code",
      "execution_count": 7,
      "id": "c057c448",
      "metadata": {
        "id": "c057c448"
      },
      "outputs": [
        {
          "name": "stdout",
          "output_type": "stream",
          "text": [
            "<class 'pandas.core.frame.DataFrame'>\n",
            "RangeIndex: 10000 entries, 0 to 9999\n",
            "Data columns (total 11 columns):\n",
            " #   Column            Non-Null Count  Dtype   \n",
            "---  ------            --------------  -----   \n",
            " 0   credit_score      10000 non-null  int64   \n",
            " 1   country           10000 non-null  object  \n",
            " 2   gender            10000 non-null  object  \n",
            " 3   age               10000 non-null  int64   \n",
            " 4   tenure            10000 non-null  int64   \n",
            " 5   balance           10000 non-null  float64 \n",
            " 6   products_number   10000 non-null  int64   \n",
            " 7   credit_card       10000 non-null  int64   \n",
            " 8   active_member     10000 non-null  category\n",
            " 9   estimated_salary  10000 non-null  float64 \n",
            " 10  churn             10000 non-null  category\n",
            "dtypes: category(2), float64(2), int64(5), object(2)\n",
            "memory usage: 723.0+ KB\n"
          ]
        }
      ],
      "source": [
        "# get the datatypes of columns\n",
        "df_churn_original.info()"
      ]
    },
    {
      "cell_type": "code",
      "execution_count": 8,
      "id": "e56e2988",
      "metadata": {
        "id": "e56e2988"
      },
      "outputs": [
        {
          "data": {
            "text/plain": [
              "['credit_score',\n",
              " 'age',\n",
              " 'tenure',\n",
              " 'balance',\n",
              " 'products_number',\n",
              " 'credit_card',\n",
              " 'estimated_salary']"
            ]
          },
          "execution_count": 8,
          "metadata": {},
          "output_type": "execute_result"
        }
      ],
      "source": [
        "# List of numeric variables in the data\n",
        "numeric_columns = df_churn_original.select_dtypes(include=['float64','int64']).columns.tolist()\n",
        "numeric_columns"
      ]
    },
    {
      "cell_type": "code",
      "execution_count": 9,
      "id": "55988dbb",
      "metadata": {
        "id": "55988dbb"
      },
      "outputs": [
        {
          "data": {
            "text/plain": [
              "'credit_score'"
            ]
          },
          "execution_count": 9,
          "metadata": {},
          "output_type": "execute_result"
        }
      ],
      "source": [
        "# removing unique customer id from column\n",
        "numeric_columns.pop(0)\n",
        "# numeric_columns"
      ]
    },
    {
      "cell_type": "code",
      "execution_count": 10,
      "id": "452e2037",
      "metadata": {
        "id": "452e2037"
      },
      "outputs": [
        {
          "data": {
            "text/plain": [
              "['age',\n",
              " 'tenure',\n",
              " 'balance',\n",
              " 'products_number',\n",
              " 'credit_card',\n",
              " 'estimated_salary']"
            ]
          },
          "execution_count": 10,
          "metadata": {},
          "output_type": "execute_result"
        }
      ],
      "source": [
        "numeric_columns"
      ]
    },
    {
      "cell_type": "code",
      "execution_count": 11,
      "id": "RK44pDvPNHZn",
      "metadata": {
        "id": "RK44pDvPNHZn"
      },
      "outputs": [
        {
          "data": {
            "text/plain": [
              "['country', 'gender', 'active_member']"
            ]
          },
          "execution_count": 11,
          "metadata": {},
          "output_type": "execute_result"
        }
      ],
      "source": [
        "cat_cols = df_churn_original.select_dtypes(include=['category','object']).columns.tolist()\n",
        "cat_cols.pop()\n",
        "cat_cols"
      ]
    },
    {
      "cell_type": "code",
      "execution_count": 12,
      "id": "2dc55675",
      "metadata": {
        "id": "2dc55675"
      },
      "outputs": [
        {
          "name": "stdout",
          "output_type": "stream",
          "text": [
            "No of Rows : 10000 \n",
            "No of Columns : 11\n",
            "No duplicates present in the data\n"
          ]
        }
      ],
      "source": [
        "# Check for duplicates within the data\n",
        "df_churn_original = df_churn_original.drop_duplicates()\n",
        "print(\"No of Rows : {} \\nNo of Columns : {}\".format(df_churn_original.shape[0], df_churn_original.shape[1]))\n",
        "print(\"No duplicates present in the data\")"
      ]
    },
    {
      "cell_type": "markdown",
      "id": "MACnzFcD7v_n",
      "metadata": {
        "id": "MACnzFcD7v_n"
      },
      "source": [
        "#### Do the ranges of the predictor variables make sense?\n",
        "\n"
      ]
    },
    {
      "cell_type": "code",
      "execution_count": 13,
      "id": "4ef50fc2",
      "metadata": {
        "id": "4ef50fc2"
      },
      "outputs": [
        {
          "data": {
            "text/html": [
              "<div>\n",
              "<style scoped>\n",
              "    .dataframe tbody tr th:only-of-type {\n",
              "        vertical-align: middle;\n",
              "    }\n",
              "\n",
              "    .dataframe tbody tr th {\n",
              "        vertical-align: top;\n",
              "    }\n",
              "\n",
              "    .dataframe thead th {\n",
              "        text-align: right;\n",
              "    }\n",
              "</style>\n",
              "<table border=\"1\" class=\"dataframe\">\n",
              "  <thead>\n",
              "    <tr style=\"text-align: right;\">\n",
              "      <th></th>\n",
              "      <th>credit_score</th>\n",
              "      <th>age</th>\n",
              "      <th>tenure</th>\n",
              "      <th>balance</th>\n",
              "      <th>products_number</th>\n",
              "      <th>credit_card</th>\n",
              "      <th>estimated_salary</th>\n",
              "    </tr>\n",
              "  </thead>\n",
              "  <tbody>\n",
              "    <tr>\n",
              "      <th>count</th>\n",
              "      <td>10000.000000</td>\n",
              "      <td>10000.000000</td>\n",
              "      <td>10000.000000</td>\n",
              "      <td>10000.000000</td>\n",
              "      <td>10000.000000</td>\n",
              "      <td>10000.00000</td>\n",
              "      <td>10000.000000</td>\n",
              "    </tr>\n",
              "    <tr>\n",
              "      <th>mean</th>\n",
              "      <td>650.528800</td>\n",
              "      <td>38.921800</td>\n",
              "      <td>5.012800</td>\n",
              "      <td>76485.889288</td>\n",
              "      <td>1.530200</td>\n",
              "      <td>0.70550</td>\n",
              "      <td>100090.239881</td>\n",
              "    </tr>\n",
              "    <tr>\n",
              "      <th>std</th>\n",
              "      <td>96.653299</td>\n",
              "      <td>10.487806</td>\n",
              "      <td>2.892174</td>\n",
              "      <td>62397.405202</td>\n",
              "      <td>0.581654</td>\n",
              "      <td>0.45584</td>\n",
              "      <td>57510.492818</td>\n",
              "    </tr>\n",
              "    <tr>\n",
              "      <th>min</th>\n",
              "      <td>350.000000</td>\n",
              "      <td>18.000000</td>\n",
              "      <td>0.000000</td>\n",
              "      <td>0.000000</td>\n",
              "      <td>1.000000</td>\n",
              "      <td>0.00000</td>\n",
              "      <td>11.580000</td>\n",
              "    </tr>\n",
              "    <tr>\n",
              "      <th>25%</th>\n",
              "      <td>584.000000</td>\n",
              "      <td>32.000000</td>\n",
              "      <td>3.000000</td>\n",
              "      <td>0.000000</td>\n",
              "      <td>1.000000</td>\n",
              "      <td>0.00000</td>\n",
              "      <td>51002.110000</td>\n",
              "    </tr>\n",
              "    <tr>\n",
              "      <th>50%</th>\n",
              "      <td>652.000000</td>\n",
              "      <td>37.000000</td>\n",
              "      <td>5.000000</td>\n",
              "      <td>97198.540000</td>\n",
              "      <td>1.000000</td>\n",
              "      <td>1.00000</td>\n",
              "      <td>100193.915000</td>\n",
              "    </tr>\n",
              "    <tr>\n",
              "      <th>75%</th>\n",
              "      <td>718.000000</td>\n",
              "      <td>44.000000</td>\n",
              "      <td>7.000000</td>\n",
              "      <td>127644.240000</td>\n",
              "      <td>2.000000</td>\n",
              "      <td>1.00000</td>\n",
              "      <td>149388.247500</td>\n",
              "    </tr>\n",
              "    <tr>\n",
              "      <th>max</th>\n",
              "      <td>850.000000</td>\n",
              "      <td>92.000000</td>\n",
              "      <td>10.000000</td>\n",
              "      <td>250898.090000</td>\n",
              "      <td>4.000000</td>\n",
              "      <td>1.00000</td>\n",
              "      <td>199992.480000</td>\n",
              "    </tr>\n",
              "  </tbody>\n",
              "</table>\n",
              "</div>"
            ],
            "text/plain": [
              "       credit_score           age        tenure        balance  \\\n",
              "count  10000.000000  10000.000000  10000.000000   10000.000000   \n",
              "mean     650.528800     38.921800      5.012800   76485.889288   \n",
              "std       96.653299     10.487806      2.892174   62397.405202   \n",
              "min      350.000000     18.000000      0.000000       0.000000   \n",
              "25%      584.000000     32.000000      3.000000       0.000000   \n",
              "50%      652.000000     37.000000      5.000000   97198.540000   \n",
              "75%      718.000000     44.000000      7.000000  127644.240000   \n",
              "max      850.000000     92.000000     10.000000  250898.090000   \n",
              "\n",
              "       products_number  credit_card  estimated_salary  \n",
              "count     10000.000000  10000.00000      10000.000000  \n",
              "mean          1.530200      0.70550     100090.239881  \n",
              "std           0.581654      0.45584      57510.492818  \n",
              "min           1.000000      0.00000         11.580000  \n",
              "25%           1.000000      0.00000      51002.110000  \n",
              "50%           1.000000      1.00000     100193.915000  \n",
              "75%           2.000000      1.00000     149388.247500  \n",
              "max           4.000000      1.00000     199992.480000  "
            ]
          },
          "execution_count": 13,
          "metadata": {},
          "output_type": "execute_result"
        }
      ],
      "source": [
        "# Get the summary metrics for numerical variables\n",
        "df_churn_original.describe()"
      ]
    },
    {
      "cell_type": "markdown",
      "id": "a1efddcd",
      "metadata": {
        "id": "a1efddcd"
      },
      "source": [
        "The numbers above makes sense. For example:\n",
        "* credit score is between 350 and 850\n",
        "* age is between 18 to 92\n",
        "* tenure is 0(new customer) to 10 years(loyal customer)\n",
        "* credit card no 0 or 1\n",
        "\n",
        "These numbers are close to real world numbers"
      ]
    },
    {
      "cell_type": "markdown",
      "id": "Yko5oUZv131k",
      "metadata": {
        "id": "Yko5oUZv131k"
      },
      "source": [
        "### Q2. Are there missing values?"
      ]
    },
    {
      "cell_type": "code",
      "execution_count": 14,
      "id": "e629ebcd",
      "metadata": {
        "id": "e629ebcd"
      },
      "outputs": [
        {
          "data": {
            "text/plain": [
              "credit_score        0\n",
              "country             0\n",
              "gender              0\n",
              "age                 0\n",
              "tenure              0\n",
              "balance             0\n",
              "products_number     0\n",
              "credit_card         0\n",
              "active_member       0\n",
              "estimated_salary    0\n",
              "churn               0\n",
              "dtype: int64"
            ]
          },
          "execution_count": 14,
          "metadata": {},
          "output_type": "execute_result"
        }
      ],
      "source": [
        "# Identify missing values in the data across all variables\n",
        "\n",
        "df_churn_original.isna().sum()"
      ]
    },
    {
      "cell_type": "markdown",
      "id": "41e1d7b2",
      "metadata": {
        "id": "41e1d7b2"
      },
      "source": [
        "### Distribution of Variables - Univariate Plots"
      ]
    },
    {
      "cell_type": "markdown",
      "id": "NxaOH4K-9CzE",
      "metadata": {
        "id": "NxaOH4K-9CzE"
      },
      "source": [
        "#### What are the distributions of the predictor variables?\n"
      ]
    },
    {
      "cell_type": "code",
      "execution_count": 15,
      "id": "e3e72526",
      "metadata": {
        "id": "e3e72526"
      },
      "outputs": [],
      "source": [
        "# Function to plot distributions (Density plot and Box Plot)\n",
        "\n",
        "def Dist_Plot(df, column, title, xLabel, yLabel, mul_factor, amount_limit):\n",
        "    # Create a facetgrid of 2 subplots\n",
        "    fig, ax = plt.subplots(1, 2, figsize=(10, 4), gridspec_kw={'width_ratios': [.70, .30]})\n",
        "\n",
        "    # Density plot\n",
        "    bins_var = [0]\n",
        "    for i in range(1,amount_limit):\n",
        "        bins_var.append(i*mul_factor)\n",
        "\n",
        "#     print(bins_var)\n",
        "    amt_plot = sns.histplot(data=df, x=column, ax=ax[0], bins=bins_var)\n",
        "    ax[0].axvline(df[column].mean(), color='r', linestyle='--')\n",
        "    amt_plot.set_xlabel(xLabel)\n",
        "    amt_plot.set_ylabel(yLabel)\n",
        "    amt_plot.set_title(title)\n",
        "\n",
        "    # Box Plot\n",
        "    amt_box = sns.boxplot(y=column, data=df, ax=ax[1])\n",
        "#     amt_box.set_ylabel(yLabel)\n",
        "    # amt_box.set_title(\"Distribution of Transaction Amount\")\n",
        "    plt.show()\n",
        "\n",
        "    # Get the outlier percentage for the independent variable\n",
        "    outliers = boxplot_stats(df[column])[0]['fliers']\n",
        "    print(\"Percentage of Oultliers based on Inter Quartile Range {}%\".format((len(outliers)/df.shape[0])*100))\n",
        "\n",
        "\n",
        "\n"
      ]
    },
    {
      "cell_type": "markdown",
      "id": "ebfb3157",
      "metadata": {
        "id": "ebfb3157"
      },
      "source": [
        "#### Distribution of Country"
      ]
    },
    {
      "cell_type": "code",
      "execution_count": 16,
      "id": "430f6c11",
      "metadata": {
        "id": "430f6c11"
      },
      "outputs": [
        {
          "data": {
            "image/png": "[encoded data removed]",
            "text/plain": [
              "<Figure size 640x480 with 1 Axes>"
            ]
          },
          "metadata": {},
          "output_type": "display_data"
        },
        {
          "name": "stdout",
          "output_type": "stream",
          "text": [
            "France     5014\n",
            "Germany    2509\n",
            "Spain      2477\n",
            "Name: country, dtype: int64\n",
            "\n",
            " France has the highest number of customer accounts contributing to 50% of the data\n"
          ]
        }
      ],
      "source": [
        "val_counts = pd.value_counts(df_churn_original.country)\n",
        "type_count = sns.countplot(data=df_churn_original, x=\"country\", hue=\"country\")\n",
        "type_count.set_title(\"Distribution of account locations - country\")\n",
        "type_count.set_ylabel(\"No of accounts\")\n",
        "plt.show()\n",
        "print(val_counts)\n",
        "print(\"\\n France has the highest number of customer accounts contributing to {}% of the data\".format(round(((val_counts[0])/df_churn_original.shape[0])*100)))"
      ]
    },
    {
      "cell_type": "markdown",
      "id": "72bbb26b",
      "metadata": {
        "id": "72bbb26b"
      },
      "source": [
        "#### Distribution of Gender"
      ]
    },
    {
      "cell_type": "code",
      "execution_count": 17,
      "id": "25953f32",
      "metadata": {
        "id": "25953f32"
      },
      "outputs": [
        {
          "data": {
            "image/png": "[encoded data removed]",
            "text/plain": [
              "<Figure size 640x480 with 1 Axes>"
            ]
          },
          "metadata": {},
          "output_type": "display_data"
        },
        {
          "name": "stdout",
          "output_type": "stream",
          "text": [
            "Male      5457\n",
            "Female    4543\n",
            "Name: gender, dtype: int64\n",
            "\n",
            " The number of accounts held by male customers is greater than female cusotmers contributing to 55% of the data\n"
          ]
        }
      ],
      "source": [
        "val_counts = pd.value_counts(df_churn_original.gender)\n",
        "type_count = sns.countplot(data=df_churn_original, x=\"gender\", hue=\"gender\")\n",
        "type_count.set_title(\"Distribution of Gender\")\n",
        "type_count.set_ylabel(\"Gender count\")\n",
        "plt.show()\n",
        "print(val_counts)\n",
        "print(\"\\n The number of accounts held by male customers is greater than female cusotmers contributing to {}% of the data\".format(round(((val_counts[0])/df_churn_original.shape[0])*100)))"
      ]
    },
    {
      "cell_type": "markdown",
      "id": "cf9e9b68",
      "metadata": {
        "id": "cf9e9b68"
      },
      "source": [
        "#### Distribution of  Active_customer"
      ]
    },
    {
      "cell_type": "code",
      "execution_count": 18,
      "id": "c63a0baa",
      "metadata": {
        "id": "c63a0baa"
      },
      "outputs": [
        {
          "data": {
            "image/png": "[encoded data removed]",
            "text/plain": [
              "<Figure size 640x480 with 1 Axes>"
            ]
          },
          "metadata": {},
          "output_type": "display_data"
        },
        {
          "name": "stdout",
          "output_type": "stream",
          "text": [
            "1    5151\n",
            "0    4849\n",
            "Name: active_member, dtype: int64\n"
          ]
        }
      ],
      "source": [
        "val_counts = pd.value_counts(df_churn_original.active_member)\n",
        "type_count = sns.countplot(data=df_churn_original, x=\"active_member\", hue=\"active_member\")\n",
        "type_count.set_title(\"Distribution of active_member\")\n",
        "type_count.set_ylabel(\"Count in thousands\")\n",
        "plt.show()\n",
        "print(val_counts)"
      ]
    },
    {
      "cell_type": "markdown",
      "id": "ej2evvza9q3h",
      "metadata": {
        "id": "ej2evvza9q3h"
      },
      "source": [
        " #### What are the likely distributions of the numeric variables?"
      ]
    },
    {
      "cell_type": "markdown",
      "id": "ed08fd7a",
      "metadata": {
        "id": "ed08fd7a"
      },
      "source": [
        "#### Distribution of Credit Score"
      ]
    },
    {
      "cell_type": "code",
      "execution_count": 19,
      "id": "109db39b",
      "metadata": {
        "id": "109db39b"
      },
      "outputs": [
        {
          "data": {
            "image/png": "[encoded data removed]",
            "text/plain": [
              "<Figure size 1000x400 with 2 Axes>"
            ]
          },
          "metadata": {},
          "output_type": "display_data"
        },
        {
          "name": "stdout",
          "output_type": "stream",
          "text": [
            "Percentage of Oultliers based on Inter Quartile Range 0.15%\n",
            "===============================================================\n"
          ]
        }
      ],
      "source": [
        "Dist_Plot(df_churn_original,'credit_score',\"Distribution of \" + 'credit_score', 'credit_score', \"Count in Hundreds\", 10, 100)\n",
        "print(\"===============================================================\")"
      ]
    },
    {
      "cell_type": "markdown",
      "id": "e98baff0",
      "metadata": {
        "id": "e98baff0"
      },
      "source": [
        "#### Distribution of Age"
      ]
    },
    {
      "cell_type": "code",
      "execution_count": 20,
      "id": "7db8135f",
      "metadata": {
        "id": "7db8135f"
      },
      "outputs": [
        {
          "data": {
            "image/png": "[encoded data removed]",
            "text/plain": [
              "<Figure size 1000x400 with 2 Axes>"
            ]
          },
          "metadata": {},
          "output_type": "display_data"
        },
        {
          "name": "stdout",
          "output_type": "stream",
          "text": [
            "Percentage of Oultliers based on Inter Quartile Range 3.5900000000000003%\n",
            "===============================================================\n"
          ]
        }
      ],
      "source": [
        "Dist_Plot(df_churn_original,'age',\"Distribution of \" + 'age', 'age', \"Count in Thousands\", 10, 10)\n",
        "print(\"===============================================================\")"
      ]
    },
    {
      "cell_type": "markdown",
      "id": "bb79e073",
      "metadata": {
        "id": "bb79e073"
      },
      "source": [
        "#### Distribution of tenure"
      ]
    },
    {
      "cell_type": "code",
      "execution_count": 21,
      "id": "ef805fc1",
      "metadata": {
        "id": "ef805fc1"
      },
      "outputs": [
        {
          "data": {
            "image/png": "[encoded data removed]",
            "text/plain": [
              "<Figure size 1000x400 with 2 Axes>"
            ]
          },
          "metadata": {},
          "output_type": "display_data"
        },
        {
          "name": "stdout",
          "output_type": "stream",
          "text": [
            "Percentage of Oultliers based on Inter Quartile Range 0.0%\n",
            "===============================================================\n"
          ]
        }
      ],
      "source": [
        "Dist_Plot(df_churn_original,'tenure',\"Distribution of \" + 'tenure', 'tenure', \"Count in Hundreds\", 1, 15)\n",
        "print(\"===============================================================\")"
      ]
    },
    {
      "cell_type": "markdown",
      "id": "040d28c1",
      "metadata": {
        "id": "040d28c1"
      },
      "source": [
        "#### Distribution of Account Balance"
      ]
    },
    {
      "cell_type": "code",
      "execution_count": 22,
      "id": "d28d7c31",
      "metadata": {
        "id": "d28d7c31"
      },
      "outputs": [
        {
          "data": {
            "image/png": "[encoded data removed]",
            "text/plain": [
              "<Figure size 1000x400 with 2 Axes>"
            ]
          },
          "metadata": {},
          "output_type": "display_data"
        },
        {
          "name": "stdout",
          "output_type": "stream",
          "text": [
            "Percentage of Oultliers based on Inter Quartile Range 0.0%\n",
            "===============================================================\n"
          ]
        }
      ],
      "source": [
        "Dist_Plot(df_churn_original,'balance',\"Distribution of \" + 'balance', 'balance', \"Count in Thousands\", 10000, 30)\n",
        "print(\"===============================================================\")"
      ]
    },
    {
      "cell_type": "markdown",
      "id": "5202ef64",
      "metadata": {
        "id": "5202ef64"
      },
      "source": [
        "#### Distribution of No of Bank Products used by Customer"
      ]
    },
    {
      "cell_type": "code",
      "execution_count": 23,
      "id": "0b93842a",
      "metadata": {
        "id": "0b93842a"
      },
      "outputs": [
        {
          "data": {
            "image/png": "[encoded data removed]",
            "text/plain": [
              "<Figure size 1000x400 with 2 Axes>"
            ]
          },
          "metadata": {},
          "output_type": "display_data"
        },
        {
          "name": "stdout",
          "output_type": "stream",
          "text": [
            "Percentage of Oultliers based on Inter Quartile Range 0.6%\n",
            "===============================================================\n"
          ]
        }
      ],
      "source": [
        "Dist_Plot(df_churn_original,'products_number',\"Distribution of \" + 'products_number', 'products_number', \"Count in Thousands\", 1, 10)\n",
        "print(\"===============================================================\")"
      ]
    },
    {
      "cell_type": "markdown",
      "id": "514ba5e5",
      "metadata": {
        "id": "514ba5e5"
      },
      "source": [
        "#### Distribution of No of Credit Cards held"
      ]
    },
    {
      "cell_type": "code",
      "execution_count": 24,
      "id": "f5a2ea02",
      "metadata": {
        "id": "f5a2ea02"
      },
      "outputs": [
        {
          "data": {
            "image/png": "[encoded data removed]",
            "text/plain": [
              "<Figure size 1000x400 with 2 Axes>"
            ]
          },
          "metadata": {},
          "output_type": "display_data"
        },
        {
          "name": "stdout",
          "output_type": "stream",
          "text": [
            "Percentage of Oultliers based on Inter Quartile Range 0.0%\n",
            "===============================================================\n"
          ]
        }
      ],
      "source": [
        "Dist_Plot(df_churn_original,'credit_card',\"Distribution of \" + 'credit_card', 'credit_card', \"Count in Thousands\", 1, 6)\n",
        "print(\"===============================================================\")"
      ]
    },
    {
      "cell_type": "markdown",
      "id": "3fca288b",
      "metadata": {
        "id": "3fca288b"
      },
      "source": [
        "#### Distribution of Estimated Customer Salary"
      ]
    },
    {
      "cell_type": "code",
      "execution_count": 25,
      "id": "0ac483b2",
      "metadata": {
        "id": "0ac483b2"
      },
      "outputs": [
        {
          "data": {
            "image/png": "[encoded data removed]",
            "text/plain": [
              "<Figure size 1000x400 with 2 Axes>"
            ]
          },
          "metadata": {},
          "output_type": "display_data"
        },
        {
          "name": "stdout",
          "output_type": "stream",
          "text": [
            "Percentage of Oultliers based on Inter Quartile Range 0.0%\n",
            "===============================================================\n"
          ]
        }
      ],
      "source": [
        "Dist_Plot(df_churn_original,'estimated_salary',\"Distribution of \" + 'estimated_salary', 'estimated_salary', \"Count in Hundreds\", 10000, 25)\n",
        "print(\"===============================================================\")"
      ]
    },
    {
      "cell_type": "markdown",
      "id": "e5eee9ed",
      "metadata": {
        "id": "e5eee9ed"
      },
      "source": [
        "#### Histogram of Dependent Variable - churn"
      ]
    },
    {
      "cell_type": "code",
      "execution_count": 26,
      "id": "16fa65bf",
      "metadata": {
        "id": "16fa65bf"
      },
      "outputs": [
        {
          "data": {
            "image/png": "[encoded data removed]",
            "text/plain": [
              "<Figure size 640x480 with 1 Axes>"
            ]
          },
          "metadata": {},
          "output_type": "display_data"
        },
        {
          "name": "stdout",
          "output_type": "stream",
          "text": [
            "0    7963\n",
            "1    2037\n",
            "Name: churn, dtype: int64\n",
            "\n",
            " Classes are highly imbalanced with Non-Churn observations constituting 79.63% of the data\n"
          ]
        }
      ],
      "source": [
        "target_val_counts = pd.value_counts(df_churn_original.churn)\n",
        "target_count = sns.countplot(data=df_churn_original, x=\"churn\", hue=\"churn\")\n",
        "target_count.set_title(\"Distribution of Dependent Variable - Churn\")\n",
        "target_count.set_ylabel(\"Count\")\n",
        "plt.show()\n",
        "print(target_val_counts)\n",
        "print(\"\\n Classes are highly imbalanced with Non-Churn observations constituting {}% of the data\".format(target_val_counts[0]/df_churn_original.shape[0]*100))"
      ]
    },
    {
      "cell_type": "markdown",
      "id": "LdRBrly24Sb2",
      "metadata": {
        "id": "LdRBrly24Sb2"
      },
      "source": [
        "#### Which independent variables are useful to predict a target (dependent variable)? (Use at least three methods)\n",
        "\n",
        "We will be using 3 methods to understand the most important features from the Dataset\n",
        "* Principal Component Analysis - PCA\n",
        "* Random Forest\n",
        "* XGBoost\n",
        "\n",
        "\n",
        "##### Principal Component Analysis - PCA\n",
        "\n"
      ]
    },
    {
      "cell_type": "code",
      "execution_count": 27,
      "id": "q8WCDN05NJqP",
      "metadata": {
        "id": "q8WCDN05NJqP"
      },
      "outputs": [],
      "source": [
        "# dummy encode categorical variables\n",
        "df_encoded = pd.get_dummies(df_churn_original, columns=['country', 'gender', 'active_member'], drop_first=True)\n",
        "\n",
        "df_encoded['churn'] = pd.Categorical(df_churn_original['churn'])\n"
      ]
    },
    {
      "cell_type": "code",
      "execution_count": 28,
      "id": "PjXx-JFy4cNP",
      "metadata": {
        "id": "PjXx-JFy4cNP"
      },
      "outputs": [
        {
          "data": {
            "text/plain": [
              "([<matplotlib.axis.XTick at 0x15f988f90>,\n",
              "  <matplotlib.axis.XTick at 0x15fa008d0>,\n",
              "  <matplotlib.axis.XTick at 0x15f9c9090>],\n",
              " [Text(1, 0, '1'), Text(2, 0, '2'), Text(3, 0, '3')])"
            ]
          },
          "execution_count": 28,
          "metadata": {},
          "output_type": "execute_result"
        },
        {
          "data": {
            "image/png": "[encoded data removed]",
            "text/plain": [
              "<Figure size 640x480 with 1 Axes>"
            ]
          },
          "metadata": {},
          "output_type": "display_data"
        }
      ],
      "source": [
        "## PCA\n",
        "\n",
        "pca = PCA(n_components=3)\n",
        "pca.fit(df_encoded)\n",
        "\n",
        "# Plotting the variances for each PC\n",
        "PC = range(1, pca.n_components_+1)\n",
        "plt.bar(PC, pca.explained_variance_ratio_, color='gold')\n",
        "plt.xlabel('Principal Components')\n",
        "plt.ylabel('Variance %')\n",
        "plt.xticks(PC)"
      ]
    },
    {
      "cell_type": "code",
      "execution_count": 29,
      "id": "alPMCCaU4iZc",
      "metadata": {
        "id": "alPMCCaU4iZc"
      },
      "outputs": [
        {
          "data": {
            "text/html": [
              "<div>\n",
              "<style scoped>\n",
              "    .dataframe tbody tr th:only-of-type {\n",
              "        vertical-align: middle;\n",
              "    }\n",
              "\n",
              "    .dataframe tbody tr th {\n",
              "        vertical-align: top;\n",
              "    }\n",
              "\n",
              "    .dataframe thead th {\n",
              "        text-align: right;\n",
              "    }\n",
              "</style>\n",
              "<table border=\"1\" class=\"dataframe\">\n",
              "  <thead>\n",
              "    <tr style=\"text-align: right;\">\n",
              "      <th></th>\n",
              "      <th>credit_score</th>\n",
              "      <th>age</th>\n",
              "      <th>tenure</th>\n",
              "      <th>balance</th>\n",
              "      <th>products_number</th>\n",
              "      <th>credit_card</th>\n",
              "      <th>estimated_salary</th>\n",
              "      <th>churn</th>\n",
              "      <th>country_Germany</th>\n",
              "      <th>country_Spain</th>\n",
              "      <th>gender_Male</th>\n",
              "      <th>active_member_1</th>\n",
              "    </tr>\n",
              "  </thead>\n",
              "  <tbody>\n",
              "    <tr>\n",
              "      <th>PC1</th>\n",
              "      <td>0.000010</td>\n",
              "      <td>0.000005</td>\n",
              "      <td>-5.399443e-07</td>\n",
              "      <td>0.99698</td>\n",
              "      <td>-2.814867e-06</td>\n",
              "      <td>-1.133091e-07</td>\n",
              "      <td>0.077660</td>\n",
              "      <td>7.676894e-07</td>\n",
              "      <td>2.781163e-06</td>\n",
              "      <td>-9.327881e-07</td>\n",
              "      <td>9.144193e-08</td>\n",
              "      <td>-8.699703e-08</td>\n",
              "    </tr>\n",
              "    <tr>\n",
              "      <th>PC2</th>\n",
              "      <td>0.000003</td>\n",
              "      <td>0.000002</td>\n",
              "      <td>-4.426657e-07</td>\n",
              "      <td>0.07766</td>\n",
              "      <td>-4.028806e-07</td>\n",
              "      <td>6.864755e-08</td>\n",
              "      <td>-0.996980</td>\n",
              "      <td>-1.453245e-08</td>\n",
              "      <td>1.775875e-07</td>\n",
              "      <td>-3.684491e-08</td>\n",
              "      <td>7.892823e-08</td>\n",
              "      <td>9.167353e-08</td>\n",
              "    </tr>\n",
              "    <tr>\n",
              "      <th>PC3</th>\n",
              "      <td>-1.000000</td>\n",
              "      <td>0.000456</td>\n",
              "      <td>-2.788004e-05</td>\n",
              "      <td>0.00001</td>\n",
              "      <td>-8.529393e-05</td>\n",
              "      <td>2.537047e-05</td>\n",
              "      <td>-0.000002</td>\n",
              "      <td>1.159998e-04</td>\n",
              "      <td>-1.358780e-05</td>\n",
              "      <td>-2.509523e-05</td>\n",
              "      <td>1.516278e-05</td>\n",
              "      <td>-1.328724e-04</td>\n",
              "    </tr>\n",
              "  </tbody>\n",
              "</table>\n",
              "</div>"
            ],
            "text/plain": [
              "     credit_score       age        tenure  balance  products_number  \\\n",
              "PC1      0.000010  0.000005 -5.399443e-07  0.99698    -2.814867e-06   \n",
              "PC2      0.000003  0.000002 -4.426657e-07  0.07766    -4.028806e-07   \n",
              "PC3     -1.000000  0.000456 -2.788004e-05  0.00001    -8.529393e-05   \n",
              "\n",
              "      credit_card  estimated_salary         churn  country_Germany  \\\n",
              "PC1 -1.133091e-07          0.077660  7.676894e-07     2.781163e-06   \n",
              "PC2  6.864755e-08         -0.996980 -1.453245e-08     1.775875e-07   \n",
              "PC3  2.537047e-05         -0.000002  1.159998e-04    -1.358780e-05   \n",
              "\n",
              "     country_Spain   gender_Male  active_member_1  \n",
              "PC1  -9.327881e-07  9.144193e-08    -8.699703e-08  \n",
              "PC2  -3.684491e-08  7.892823e-08     9.167353e-08  \n",
              "PC3  -2.509523e-05  1.516278e-05    -1.328724e-04  "
            ]
          },
          "execution_count": 29,
          "metadata": {},
          "output_type": "execute_result"
        }
      ],
      "source": [
        "# Variable Importance table\n",
        "PCnames = ['PC'+str(i+1) for i in range(pca.n_components_)]\n",
        "Loadings = pd.DataFrame(pca.components_,columns=df_encoded.columns,index=PCnames)\n",
        "Loadings"
      ]
    },
    {
      "cell_type": "markdown",
      "id": "OtmUb3ND4nWB",
      "metadata": {
        "id": "OtmUb3ND4nWB"
      },
      "source": [
        "##### Random Forest"
      ]
    },
    {
      "cell_type": "code",
      "execution_count": 30,
      "id": "6V1tneQp4oX3",
      "metadata": {
        "id": "6V1tneQp4oX3"
      },
      "outputs": [
        {
          "data": {
            "text/html": [
              "<style>#sk-container-id-1 {color: black;}#sk-container-id-1 pre{padding: 0;}#sk-container-id-1 div.sk-toggleable {background-color: white;}#sk-container-id-1 label.sk-toggleable__label {cursor: pointer;display: block;width: 100%;margin-bottom: 0;padding: 0.3em;box-sizing: border-box;text-align: center;}#sk-container-id-1 label.sk-toggleable__label-arrow:before {content: \"▸\";float: left;margin-right: 0.25em;color: #696969;}#sk-container-id-1 label.sk-toggleable__label-arrow:hover:before {color: black;}#sk-container-id-1 div.sk-estimator:hover label.sk-toggleable__label-arrow:before {color: black;}#sk-container-id-1 div.sk-toggleable__content {max-height: 0;max-width: 0;overflow: hidden;text-align: left;background-color: #f0f8ff;}#sk-container-id-1 div.sk-toggleable__content pre {margin: 0.2em;color: black;border-radius: 0.25em;background-color: #f0f8ff;}#sk-container-id-1 input.sk-toggleable__control:checked~div.sk-toggleable__content {max-height: 200px;max-width: 100%;overflow: auto;}#sk-container-id-1 input.sk-toggleable__control:checked~label.sk-toggleable__label-arrow:before {content: \"▾\";}#sk-container-id-1 div.sk-estimator input.sk-toggleable__control:checked~label.sk-toggleable__label {background-color: #d4ebff;}#sk-container-id-1 div.sk-label input.sk-toggleable__control:checked~label.sk-toggleable__label {background-color: #d4ebff;}#sk-container-id-1 input.sk-hidden--visually {border: 0;clip: rect(1px 1px 1px 1px);clip: rect(1px, 1px, 1px, 1px);height: 1px;margin: -1px;overflow: hidden;padding: 0;position: absolute;width: 1px;}#sk-container-id-1 div.sk-estimator {font-family: monospace;background-color: #f0f8ff;border: 1px dotted black;border-radius: 0.25em;box-sizing: border-box;margin-bottom: 0.5em;}#sk-container-id-1 div.sk-estimator:hover {background-color: #d4ebff;}#sk-container-id-1 div.sk-parallel-item::after {content: \"\";width: 100%;border-bottom: 1px solid gray;flex-grow: 1;}#sk-container-id-1 div.sk-label:hover label.sk-toggleable__label {background-color: #d4ebff;}#sk-container-id-1 div.sk-serial::before {content: \"\";position: absolute;border-left: 1px solid gray;box-sizing: border-box;top: 0;bottom: 0;left: 50%;z-index: 0;}#sk-container-id-1 div.sk-serial {display: flex;flex-direction: column;align-items: center;background-color: white;padding-right: 0.2em;padding-left: 0.2em;position: relative;}#sk-container-id-1 div.sk-item {position: relative;z-index: 1;}#sk-container-id-1 div.sk-parallel {display: flex;align-items: stretch;justify-content: center;background-color: white;position: relative;}#sk-container-id-1 div.sk-item::before, #sk-container-id-1 div.sk-parallel-item::before {content: \"\";position: absolute;border-left: 1px solid gray;box-sizing: border-box;top: 0;bottom: 0;left: 50%;z-index: -1;}#sk-container-id-1 div.sk-parallel-item {display: flex;flex-direction: column;z-index: 1;position: relative;background-color: white;}#sk-container-id-1 div.sk-parallel-item:first-child::after {align-self: flex-end;width: 50%;}#sk-container-id-1 div.sk-parallel-item:last-child::after {align-self: flex-start;width: 50%;}#sk-container-id-1 div.sk-parallel-item:only-child::after {width: 0;}#sk-container-id-1 div.sk-dashed-wrapped {border: 1px dashed gray;margin: 0 0.4em 0.5em 0.4em;box-sizing: border-box;padding-bottom: 0.4em;background-color: white;}#sk-container-id-1 div.sk-label label {font-family: monospace;font-weight: bold;display: inline-block;line-height: 1.2em;}#sk-container-id-1 div.sk-label-container {text-align: center;}#sk-container-id-1 div.sk-container {/* jupyter's `normalize.less` sets `[hidden] { display: none; }` but bootstrap.min.css set `[hidden] { display: none !important; }` so we also need the `!important` here to be able to override the default hidden behavior on the sphinx rendered scikit-learn.org. See: https://github.com/scikit-learn/scikit-learn/issues/21755 */display: inline-block !important;position: relative;}#sk-container-id-1 div.sk-text-repr-fallback {display: none;}</style><div id=\"sk-container-id-1\" class=\"sk-top-container\"><div class=\"sk-text-repr-fallback\"><pre>RandomForestClassifier(random_state=0)</pre><b>In a Jupyter environment, please rerun this cell to show the HTML representation or trust the notebook. <br />On GitHub, the HTML representation is unable to render, please try loading this page with nbviewer.org.</b></div><div class=\"sk-container\" hidden><div class=\"sk-item\"><div class=\"sk-estimator sk-toggleable\"><input class=\"sk-toggleable__control sk-hidden--visually\" id=\"sk-estimator-id-1\" type=\"checkbox\" checked><label for=\"sk-estimator-id-1\" class=\"sk-toggleable__label sk-toggleable__label-arrow\">RandomForestClassifier</label><div class=\"sk-toggleable__content\"><pre>RandomForestClassifier(random_state=0)</pre></div></div></div></div></div>"
            ],
            "text/plain": [
              "RandomForestClassifier(random_state=0)"
            ]
          },
          "execution_count": 30,
          "metadata": {},
          "output_type": "execute_result"
        }
      ],
      "source": [
        "# Create a feature set and target variable\n",
        "X = df_encoded.loc[:, df_encoded.columns != 'churn']\n",
        "y = pd.Categorical(df_encoded['churn'])\n",
        "\n",
        "feature_names = X.columns\n",
        "\n",
        "# Run Random Forest Classifier\n",
        "forest = RandomForestClassifier(random_state=0)\n",
        "forest.fit(X, y)\n"
      ]
    },
    {
      "cell_type": "code",
      "execution_count": 31,
      "id": "Xdb1-ChW493x",
      "metadata": {
        "id": "Xdb1-ChW493x"
      },
      "outputs": [
        {
          "data": {
            "image/png": "[encoded data removed]",
            "text/plain": [
              "<Figure size 640x480 with 1 Axes>"
            ]
          },
          "metadata": {},
          "output_type": "display_data"
        }
      ],
      "source": [
        "# Variable Importance Plot\n",
        "\n",
        "forest_importances = pd.Series(forest.feature_importances_, index=feature_names)\n",
        "plt.bar([x for x in range(len(forest_importances))], forest_importances)\n",
        "plt.show()"
      ]
    },
    {
      "cell_type": "code",
      "execution_count": 32,
      "id": "pZB4CUYD5ycc",
      "metadata": {
        "id": "pZB4CUYD5ycc"
      },
      "outputs": [
        {
          "data": {
            "text/plain": [
              "credit_score        0.143450\n",
              "age                 0.238372\n",
              "tenure              0.079978\n",
              "balance             0.142234\n",
              "products_number     0.132891\n",
              "credit_card         0.017870\n",
              "estimated_salary    0.146830\n",
              "country_Germany     0.027171\n",
              "country_Spain       0.013831\n",
              "gender_Male         0.018338\n",
              "active_member_1     0.039035\n",
              "dtype: float64"
            ]
          },
          "execution_count": 32,
          "metadata": {},
          "output_type": "execute_result"
        }
      ],
      "source": [
        "# Variable Importance Table\n",
        "forest_importances\n"
      ]
    },
    {
      "cell_type": "markdown",
      "id": "qAjHPU7E56fg",
      "metadata": {
        "id": "qAjHPU7E56fg"
      },
      "source": [
        "##### XGBoost"
      ]
    },
    {
      "cell_type": "code",
      "execution_count": 33,
      "id": "ZaWOJuip54cx",
      "metadata": {
        "id": "ZaWOJuip54cx"
      },
      "outputs": [
        {
          "data": {
            "image/png": "[encoded data removed]",
            "text/plain": [
              "<Figure size 640x480 with 1 Axes>"
            ]
          },
          "metadata": {},
          "output_type": "display_data"
        }
      ],
      "source": [
        "## XGBoost Classifier\n",
        "xgboost = GradientBoostingClassifier()\n",
        "xgboost.fit(X, y)\n",
        "\n",
        "## Get Variable Importance Plot\n",
        "xgboost_importances = pd.Series(xgboost.feature_importances_, index=feature_names)\n",
        "plt.bar([x for x in range(len(xgboost_importances))], xgboost_importances)\n",
        "plt.show()"
      ]
    },
    {
      "cell_type": "code",
      "execution_count": 34,
      "id": "l9A3ucoV6DPV",
      "metadata": {
        "id": "l9A3ucoV6DPV"
      },
      "outputs": [
        {
          "data": {
            "text/plain": [
              "credit_score        0.017855\n",
              "age                 0.395083\n",
              "tenure              0.002800\n",
              "balance             0.086047\n",
              "products_number     0.304555\n",
              "credit_card         0.000284\n",
              "estimated_salary    0.014231\n",
              "country_Germany     0.047929\n",
              "country_Spain       0.000209\n",
              "gender_Male         0.014698\n",
              "active_member_1     0.116308\n",
              "dtype: float64"
            ]
          },
          "execution_count": 34,
          "metadata": {},
          "output_type": "execute_result"
        }
      ],
      "source": [
        " # Variable Importance table\n",
        " xgboost_importances"
      ]
    },
    {
      "cell_type": "markdown",
      "id": "wxbpw_e46HMJ",
      "metadata": {
        "id": "wxbpw_e46HMJ"
      },
      "source": [
        "Based on the variable importance plots the variables below are useful for training the model\n",
        "* age\n",
        "* products_number"
      ]
    },
    {
      "cell_type": "markdown",
      "id": "kSOXO2k76KQm",
      "metadata": {
        "id": "kSOXO2k76KQm"
      },
      "source": [
        "### Which independent variables have missing data? How much?\n",
        "\n",
        "From our analysis from the EDA section it is observed that None of the predictor variables have missing data"
      ]
    },
    {
      "cell_type": "markdown",
      "id": "122MDakQ6Wcj",
      "metadata": {
        "id": "122MDakQ6Wcj"
      },
      "source": [
        "### Is the predictor variables independent of all the other predictor variables?"
      ]
    },
    {
      "cell_type": "markdown",
      "id": "i_Xv0cqfRbWI",
      "metadata": {
        "id": "i_Xv0cqfRbWI"
      },
      "source": [
        "#### Pairwise Correlation\n",
        "\n",
        "Running Pairwise Correlation to check if there are any relationships between independent variables"
      ]
    },
    {
      "cell_type": "code",
      "execution_count": 35,
      "id": "OCBs42Tx7Lb1",
      "metadata": {
        "id": "OCBs42Tx7Lb1"
      },
      "outputs": [
        {
          "name": "stderr",
          "output_type": "stream",
          "text": [
            "The default value of numeric_only in DataFrame.corr is deprecated. In a future version, it will default to False. Select only valid columns or specify the value of numeric_only to silence this warning.\n"
          ]
        },
        {
          "data": {
            "text/plain": [
              "<Axes: >"
            ]
          },
          "execution_count": 35,
          "metadata": {},
          "output_type": "execute_result"
        },
        {
          "data": {
            "image/png": "[encoded data removed]",
            "text/plain": [
              "<Figure size 1100x900 with 2 Axes>"
            ]
          },
          "metadata": {},
          "output_type": "display_data"
        }
      ],
      "source": [
        "# Compute the correlation matrix\n",
        "corr = df_encoded.corr()\n",
        "\n",
        "# Generate a mask for the upper triangle\n",
        "mask = np.triu(np.ones_like(corr, dtype=bool))\n",
        "\n",
        "# Set up the matplotlib figure\n",
        "f, ax = plt.subplots(figsize=(11, 9))\n",
        "\n",
        "# Generate a custom diverging colormap\n",
        "cmap = sns.diverging_palette(230, 20, as_cmap=True)\n",
        "\n",
        "# Draw the heatmap with the mask and correct aspect ratio\n",
        "sns.heatmap(corr, mask=mask, cmap=cmap, vmax=.3, center=0,\n",
        "            square=True, linewidths=.5, cbar_kws={\"shrink\": .5})"
      ]
    },
    {
      "cell_type": "markdown",
      "id": "Ssli4LIW814h",
      "metadata": {
        "id": "Ssli4LIW814h"
      },
      "source": [
        "From the Pairwise correlation plot it is evident that there are no pairs of variables that are highly correlated with each other"
      ]
    },
    {
      "cell_type": "markdown",
      "id": "kb49-Cxy7jtw",
      "metadata": {
        "id": "kb49-Cxy7jtw"
      },
      "source": [
        "#### Which predictor variables are the most important?\n",
        "\n",
        "Based on the variable importance plots the variables below are useful for training the model\n",
        "\n",
        "* age\n",
        "* products_number"
      ]
    },
    {
      "cell_type": "markdown",
      "id": "Kou9UTGH99RL",
      "metadata": {
        "id": "Kou9UTGH99RL"
      },
      "source": [
        "## AutoML\n",
        "\n",
        "We will use H20 AutoML to determine important features, identify the train-test data, and build models for binary classification. This section helps us answer the below questions:\n",
        "\n",
        "### Do the training and test sets have the same data?\n",
        "* We will be performing stratefied sampling to get the Train and Test Split as this would ensure that the test set has a significant amount of observations from both classes and help provide a variance similar to the train data\n",
        "\n",
        "#### Which predictor variables are the most important?\n",
        "\n",
        "#### Remove outliers and keep outliers (does if have an effect of the final predictive model)?\n",
        "\n",
        "* Initially we will fit the model using data containing outliers and then fit the model on data that doesn't contain outliers to compare the influence of outliers on  the prediction task.\n",
        "\n"
      ]
    },
    {
      "cell_type": "markdown",
      "id": "ddac3e7f",
      "metadata": {
        "id": "ddac3e7f"
      },
      "source": [
        "### Modeling with outliers"
      ]
    },
    {
      "cell_type": "code",
      "execution_count": 36,
      "id": "0601b156",
      "metadata": {
        "id": "0601b156"
      },
      "outputs": [
        {
          "name": "stdout",
          "output_type": "stream",
          "text": [
            "Parse progress: |████████████████████████████████████████████████████████████████| (done) 100%\n"
          ]
        }
      ],
      "source": [
        "# Load your dataset into H2O\n",
        "data_churn = h2o.import_file(\"Bank Customer Churn Prediction.csv\")"
      ]
    },
    {
      "cell_type": "code",
      "execution_count": 37,
      "id": "7ee7698f",
      "metadata": {
        "id": "7ee7698f"
      },
      "outputs": [],
      "source": [
        "data_churn['churn'] = data_churn['churn'].asfactor()\n",
        "data_churn = data_churn.drop('customer_id', axis=1)"
      ]
    },
    {
      "cell_type": "code",
      "execution_count": 38,
      "id": "QofPi5-PVH_x",
      "metadata": {
        "id": "QofPi5-PVH_x"
      },
      "outputs": [
        {
          "data": {
            "text/html": [
              "<table class='dataframe'>\n",
              "<thead>\n",
              "<tr><th style=\"text-align: right;\">  credit_score</th><th>country  </th><th>gender  </th><th style=\"text-align: right;\">  age</th><th style=\"text-align: right;\">  tenure</th><th style=\"text-align: right;\">  balance</th><th style=\"text-align: right;\">  products_number</th><th style=\"text-align: right;\">  credit_card</th><th style=\"text-align: right;\">  active_member</th><th style=\"text-align: right;\">  estimated_salary</th><th style=\"text-align: right;\">  churn</th></tr>\n",
              "</thead>\n",
              "<tbody>\n",
              "<tr><td style=\"text-align: right;\">           619</td><td>France   </td><td>Female  </td><td style=\"text-align: right;\">   42</td><td style=\"text-align: right;\">       2</td><td style=\"text-align: right;\">      0  </td><td style=\"text-align: right;\">                1</td><td style=\"text-align: right;\">            1</td><td style=\"text-align: right;\">              1</td><td style=\"text-align: right;\">          101349  </td><td style=\"text-align: right;\">      1</td></tr>\n",
              "<tr><td style=\"text-align: right;\">           608</td><td>Spain    </td><td>Female  </td><td style=\"text-align: right;\">   41</td><td style=\"text-align: right;\">       1</td><td style=\"text-align: right;\">  83807.9</td><td style=\"text-align: right;\">                1</td><td style=\"text-align: right;\">            0</td><td style=\"text-align: right;\">              1</td><td style=\"text-align: right;\">          112543  </td><td style=\"text-align: right;\">      0</td></tr>\n",
              "<tr><td style=\"text-align: right;\">           502</td><td>France   </td><td>Female  </td><td style=\"text-align: right;\">   42</td><td style=\"text-align: right;\">       8</td><td style=\"text-align: right;\"> 159661  </td><td style=\"text-align: right;\">                3</td><td style=\"text-align: right;\">            1</td><td style=\"text-align: right;\">              0</td><td style=\"text-align: right;\">          113932  </td><td style=\"text-align: right;\">      1</td></tr>\n",
              "<tr><td style=\"text-align: right;\">           699</td><td>France   </td><td>Female  </td><td style=\"text-align: right;\">   39</td><td style=\"text-align: right;\">       1</td><td style=\"text-align: right;\">      0  </td><td style=\"text-align: right;\">                2</td><td style=\"text-align: right;\">            0</td><td style=\"text-align: right;\">              0</td><td style=\"text-align: right;\">           93826.6</td><td style=\"text-align: right;\">      0</td></tr>\n",
              "<tr><td style=\"text-align: right;\">           850</td><td>Spain    </td><td>Female  </td><td style=\"text-align: right;\">   43</td><td style=\"text-align: right;\">       2</td><td style=\"text-align: right;\"> 125511  </td><td style=\"text-align: right;\">                1</td><td style=\"text-align: right;\">            1</td><td style=\"text-align: right;\">              1</td><td style=\"text-align: right;\">           79084.1</td><td style=\"text-align: right;\">      0</td></tr>\n",
              "<tr><td style=\"text-align: right;\">           645</td><td>Spain    </td><td>Male    </td><td style=\"text-align: right;\">   44</td><td style=\"text-align: right;\">       8</td><td style=\"text-align: right;\"> 113756  </td><td style=\"text-align: right;\">                2</td><td style=\"text-align: right;\">            1</td><td style=\"text-align: right;\">              0</td><td style=\"text-align: right;\">          149757  </td><td style=\"text-align: right;\">      1</td></tr>\n",
              "<tr><td style=\"text-align: right;\">           822</td><td>France   </td><td>Male    </td><td style=\"text-align: right;\">   50</td><td style=\"text-align: right;\">       7</td><td style=\"text-align: right;\">      0  </td><td style=\"text-align: right;\">                2</td><td style=\"text-align: right;\">            1</td><td style=\"text-align: right;\">              1</td><td style=\"text-align: right;\">           10062.8</td><td style=\"text-align: right;\">      0</td></tr>\n",
              "<tr><td style=\"text-align: right;\">           376</td><td>Germany  </td><td>Female  </td><td style=\"text-align: right;\">   29</td><td style=\"text-align: right;\">       4</td><td style=\"text-align: right;\"> 115047  </td><td style=\"text-align: right;\">                4</td><td style=\"text-align: right;\">            1</td><td style=\"text-align: right;\">              0</td><td style=\"text-align: right;\">          119347  </td><td style=\"text-align: right;\">      1</td></tr>\n",
              "<tr><td style=\"text-align: right;\">           501</td><td>France   </td><td>Male    </td><td style=\"text-align: right;\">   44</td><td style=\"text-align: right;\">       4</td><td style=\"text-align: right;\"> 142051  </td><td style=\"text-align: right;\">                2</td><td style=\"text-align: right;\">            0</td><td style=\"text-align: right;\">              1</td><td style=\"text-align: right;\">           74940.5</td><td style=\"text-align: right;\">      0</td></tr>\n",
              "<tr><td style=\"text-align: right;\">           684</td><td>France   </td><td>Male    </td><td style=\"text-align: right;\">   27</td><td style=\"text-align: right;\">       2</td><td style=\"text-align: right;\"> 134604  </td><td style=\"text-align: right;\">                1</td><td style=\"text-align: right;\">            1</td><td style=\"text-align: right;\">              1</td><td style=\"text-align: right;\">           71725.7</td><td style=\"text-align: right;\">      0</td></tr>\n",
              "</tbody>\n",
              "</table><pre style='font-size: smaller; margin-bottom: 1em;'>[10000 rows x 11 columns]</pre>"
            ],
            "text/plain": [
              "  credit_score  country    gender      age    tenure    balance    products_number    credit_card    active_member    estimated_salary    churn\n",
              "--------------  ---------  --------  -----  --------  ---------  -----------------  -------------  ---------------  ------------------  -------\n",
              "           619  France     Female       42         2        0                    1              1                1            101349          1\n",
              "           608  Spain      Female       41         1    83807.9                  1              0                1            112543          0\n",
              "           502  France     Female       42         8   159661                    3              1                0            113932          1\n",
              "           699  France     Female       39         1        0                    2              0                0             93826.6        0\n",
              "           850  Spain      Female       43         2   125511                    1              1                1             79084.1        0\n",
              "           645  Spain      Male         44         8   113756                    2              1                0            149757          1\n",
              "           822  France     Male         50         7        0                    2              1                1             10062.8        0\n",
              "           376  Germany    Female       29         4   115047                    4              1                0            119347          1\n",
              "           501  France     Male         44         4   142051                    2              0                1             74940.5        0\n",
              "           684  France     Male         27         2   134604                    1              1                1             71725.7        0\n",
              "[10000 rows x 11 columns]\n"
            ]
          },
          "execution_count": 38,
          "metadata": {},
          "output_type": "execute_result"
        }
      ],
      "source": [
        "data_churn"
      ]
    },
    {
      "cell_type": "markdown",
      "id": "QTer-LRqR0VL",
      "metadata": {
        "id": "QTer-LRqR0VL"
      },
      "source": [
        "While training the model, we will perform stratified sampling since the classes are imbalanced"
      ]
    },
    {
      "cell_type": "code",
      "execution_count": 39,
      "id": "ce3de52b",
      "metadata": {
        "id": "ce3de52b",
        "scrolled": true
      },
      "outputs": [],
      "source": [
        "# Define features and target variable\n",
        "x = data_churn.columns[:-1]  # Features\n",
        "y = data_churn.columns[-1]   # Target variable\n",
        "\n",
        "# Split the data into train and test sets\n",
        "# train, test = data_churn.split_frame(ratios=[0.8], seed=42)\n",
        "train, test = data_churn.split_frame(ratios=[0.8], seed=42, destination_frames=[\"train\", \"test\"])\n"
      ]
    },
    {
      "cell_type": "code",
      "execution_count": 40,
      "id": "cwSb2y3NVer4",
      "metadata": {
        "id": "cwSb2y3NVer4"
      },
      "outputs": [
        {
          "data": {
            "text/html": [
              "<table class='dataframe'>\n",
              "<thead>\n",
              "<tr><th style=\"text-align: right;\">  credit_score</th><th>country  </th><th>gender  </th><th style=\"text-align: right;\">  age</th><th style=\"text-align: right;\">  tenure</th><th style=\"text-align: right;\">  balance</th><th style=\"text-align: right;\">  products_number</th><th style=\"text-align: right;\">  credit_card</th><th style=\"text-align: right;\">  active_member</th><th style=\"text-align: right;\">  estimated_salary</th><th style=\"text-align: right;\">  churn</th></tr>\n",
              "</thead>\n",
              "<tbody>\n",
              "<tr><td style=\"text-align: right;\">           619</td><td>France   </td><td>Female  </td><td style=\"text-align: right;\">   42</td><td style=\"text-align: right;\">       2</td><td style=\"text-align: right;\">      0  </td><td style=\"text-align: right;\">                1</td><td style=\"text-align: right;\">            1</td><td style=\"text-align: right;\">              1</td><td style=\"text-align: right;\">          101349  </td><td style=\"text-align: right;\">      1</td></tr>\n",
              "<tr><td style=\"text-align: right;\">           608</td><td>Spain    </td><td>Female  </td><td style=\"text-align: right;\">   41</td><td style=\"text-align: right;\">       1</td><td style=\"text-align: right;\">  83807.9</td><td style=\"text-align: right;\">                1</td><td style=\"text-align: right;\">            0</td><td style=\"text-align: right;\">              1</td><td style=\"text-align: right;\">          112543  </td><td style=\"text-align: right;\">      0</td></tr>\n",
              "<tr><td style=\"text-align: right;\">           502</td><td>France   </td><td>Female  </td><td style=\"text-align: right;\">   42</td><td style=\"text-align: right;\">       8</td><td style=\"text-align: right;\"> 159661  </td><td style=\"text-align: right;\">                3</td><td style=\"text-align: right;\">            1</td><td style=\"text-align: right;\">              0</td><td style=\"text-align: right;\">          113932  </td><td style=\"text-align: right;\">      1</td></tr>\n",
              "<tr><td style=\"text-align: right;\">           699</td><td>France   </td><td>Female  </td><td style=\"text-align: right;\">   39</td><td style=\"text-align: right;\">       1</td><td style=\"text-align: right;\">      0  </td><td style=\"text-align: right;\">                2</td><td style=\"text-align: right;\">            0</td><td style=\"text-align: right;\">              0</td><td style=\"text-align: right;\">           93826.6</td><td style=\"text-align: right;\">      0</td></tr>\n",
              "<tr><td style=\"text-align: right;\">           850</td><td>Spain    </td><td>Female  </td><td style=\"text-align: right;\">   43</td><td style=\"text-align: right;\">       2</td><td style=\"text-align: right;\"> 125511  </td><td style=\"text-align: right;\">                1</td><td style=\"text-align: right;\">            1</td><td style=\"text-align: right;\">              1</td><td style=\"text-align: right;\">           79084.1</td><td style=\"text-align: right;\">      0</td></tr>\n",
              "<tr><td style=\"text-align: right;\">           645</td><td>Spain    </td><td>Male    </td><td style=\"text-align: right;\">   44</td><td style=\"text-align: right;\">       8</td><td style=\"text-align: right;\"> 113756  </td><td style=\"text-align: right;\">                2</td><td style=\"text-align: right;\">            1</td><td style=\"text-align: right;\">              0</td><td style=\"text-align: right;\">          149757  </td><td style=\"text-align: right;\">      1</td></tr>\n",
              "<tr><td style=\"text-align: right;\">           822</td><td>France   </td><td>Male    </td><td style=\"text-align: right;\">   50</td><td style=\"text-align: right;\">       7</td><td style=\"text-align: right;\">      0  </td><td style=\"text-align: right;\">                2</td><td style=\"text-align: right;\">            1</td><td style=\"text-align: right;\">              1</td><td style=\"text-align: right;\">           10062.8</td><td style=\"text-align: right;\">      0</td></tr>\n",
              "<tr><td style=\"text-align: right;\">           376</td><td>Germany  </td><td>Female  </td><td style=\"text-align: right;\">   29</td><td style=\"text-align: right;\">       4</td><td style=\"text-align: right;\"> 115047  </td><td style=\"text-align: right;\">                4</td><td style=\"text-align: right;\">            1</td><td style=\"text-align: right;\">              0</td><td style=\"text-align: right;\">          119347  </td><td style=\"text-align: right;\">      1</td></tr>\n",
              "<tr><td style=\"text-align: right;\">           501</td><td>France   </td><td>Male    </td><td style=\"text-align: right;\">   44</td><td style=\"text-align: right;\">       4</td><td style=\"text-align: right;\"> 142051  </td><td style=\"text-align: right;\">                2</td><td style=\"text-align: right;\">            0</td><td style=\"text-align: right;\">              1</td><td style=\"text-align: right;\">           74940.5</td><td style=\"text-align: right;\">      0</td></tr>\n",
              "<tr><td style=\"text-align: right;\">           684</td><td>France   </td><td>Male    </td><td style=\"text-align: right;\">   27</td><td style=\"text-align: right;\">       2</td><td style=\"text-align: right;\"> 134604  </td><td style=\"text-align: right;\">                1</td><td style=\"text-align: right;\">            1</td><td style=\"text-align: right;\">              1</td><td style=\"text-align: right;\">           71725.7</td><td style=\"text-align: right;\">      0</td></tr>\n",
              "</tbody>\n",
              "</table><pre style='font-size: smaller; margin-bottom: 1em;'>[8020 rows x 11 columns]</pre>"
            ],
            "text/plain": [
              "  credit_score  country    gender      age    tenure    balance    products_number    credit_card    active_member    estimated_salary    churn\n",
              "--------------  ---------  --------  -----  --------  ---------  -----------------  -------------  ---------------  ------------------  -------\n",
              "           619  France     Female       42         2        0                    1              1                1            101349          1\n",
              "           608  Spain      Female       41         1    83807.9                  1              0                1            112543          0\n",
              "           502  France     Female       42         8   159661                    3              1                0            113932          1\n",
              "           699  France     Female       39         1        0                    2              0                0             93826.6        0\n",
              "           850  Spain      Female       43         2   125511                    1              1                1             79084.1        0\n",
              "           645  Spain      Male         44         8   113756                    2              1                0            149757          1\n",
              "           822  France     Male         50         7        0                    2              1                1             10062.8        0\n",
              "           376  Germany    Female       29         4   115047                    4              1                0            119347          1\n",
              "           501  France     Male         44         4   142051                    2              0                1             74940.5        0\n",
              "           684  France     Male         27         2   134604                    1              1                1             71725.7        0\n",
              "[8020 rows x 11 columns]\n"
            ]
          },
          "execution_count": 40,
          "metadata": {},
          "output_type": "execute_result"
        }
      ],
      "source": [
        "train"
      ]
    },
    {
      "cell_type": "code",
      "execution_count": 41,
      "id": "yCfJJg6r_IP3",
      "metadata": {
        "id": "yCfJJg6r_IP3"
      },
      "outputs": [
        {
          "data": {
            "image/png": "[encoded data removed]",
            "text/plain": [
              "<Figure size 640x480 with 1 Axes>"
            ]
          },
          "metadata": {},
          "output_type": "display_data"
        },
        {
          "data": {
            "text/plain": [
              "<Figure size 600x600 with 0 Axes>"
            ]
          },
          "metadata": {},
          "output_type": "display_data"
        },
        {
          "data": {
            "image/png": "[encoded data removed]",
            "text/plain": [
              "<Figure size 640x480 with 1 Axes>"
            ]
          },
          "metadata": {},
          "output_type": "display_data"
        },
        {
          "data": {
            "text/plain": [
              "<Figure size 600x600 with 0 Axes>"
            ]
          },
          "metadata": {},
          "output_type": "display_data"
        },
        {
          "data": {
            "image/png": "[encoded data removed]",
            "text/plain": [
              "<Figure size 640x480 with 1 Axes>"
            ]
          },
          "metadata": {},
          "output_type": "display_data"
        },
        {
          "data": {
            "text/plain": [
              "<Figure size 600x600 with 0 Axes>"
            ]
          },
          "metadata": {},
          "output_type": "display_data"
        },
        {
          "data": {
            "image/png": "[encoded data removed]",
            "text/plain": [
              "<Figure size 640x480 with 1 Axes>"
            ]
          },
          "metadata": {},
          "output_type": "display_data"
        },
        {
          "data": {
            "text/plain": [
              "<Figure size 600x600 with 0 Axes>"
            ]
          },
          "metadata": {},
          "output_type": "display_data"
        },
        {
          "data": {
            "image/png": "[encoded data removed]",
            "text/plain": [
              "<Figure size 640x480 with 1 Axes>"
            ]
          },
          "metadata": {},
          "output_type": "display_data"
        },
        {
          "data": {
            "text/plain": [
              "<Figure size 600x600 with 0 Axes>"
            ]
          },
          "metadata": {},
          "output_type": "display_data"
        },
        {
          "data": {
            "image/png": "[encoded data removed]",
            "text/plain": [
              "<Figure size 640x480 with 1 Axes>"
            ]
          },
          "metadata": {},
          "output_type": "display_data"
        },
        {
          "data": {
            "text/plain": [
              "<Figure size 600x600 with 0 Axes>"
            ]
          },
          "metadata": {},
          "output_type": "display_data"
        },
        {
          "data": {
            "image/png": "[encoded data removed]",
            "text/plain": [
              "<Figure size 640x480 with 1 Axes>"
            ]
          },
          "metadata": {},
          "output_type": "display_data"
        },
        {
          "data": {
            "text/plain": [
              "<Figure size 600x600 with 0 Axes>"
            ]
          },
          "metadata": {},
          "output_type": "display_data"
        },
        {
          "data": {
            "image/png": "[encoded data removed]",
            "text/plain": [
              "<Figure size 640x480 with 1 Axes>"
            ]
          },
          "metadata": {},
          "output_type": "display_data"
        },
        {
          "data": {
            "text/plain": [
              "<Figure size 600x600 with 0 Axes>"
            ]
          },
          "metadata": {},
          "output_type": "display_data"
        },
        {
          "data": {
            "image/png": "[encoded data removed]",
            "text/plain": [
              "<Figure size 640x480 with 1 Axes>"
            ]
          },
          "metadata": {},
          "output_type": "display_data"
        },
        {
          "data": {
            "text/plain": [
              "<Figure size 600x600 with 0 Axes>"
            ]
          },
          "metadata": {},
          "output_type": "display_data"
        },
        {
          "data": {
            "image/png": "[encoded data removed]",
            "text/plain": [
              "<Figure size 640x480 with 1 Axes>"
            ]
          },
          "metadata": {},
          "output_type": "display_data"
        },
        {
          "data": {
            "text/plain": [
              "<Figure size 600x600 with 0 Axes>"
            ]
          },
          "metadata": {},
          "output_type": "display_data"
        },
        {
          "data": {
            "image/png": "[encoded data removed]",
            "text/plain": [
              "<Figure size 640x480 with 1 Axes>"
            ]
          },
          "metadata": {},
          "output_type": "display_data"
        },
        {
          "data": {
            "text/plain": [
              "<Figure size 600x600 with 0 Axes>"
            ]
          },
          "metadata": {},
          "output_type": "display_data"
        }
      ],
      "source": [
        "# Function to plot distributions of Train and Test data\n",
        "exclude_algos = [\"StackedEnsemble\"]\n",
        "\n",
        "def Plot_Dis(df, column, title, xLabel, yLabel, mul_factor, amount_limit, bar_color):\n",
        "\n",
        "    # Density plot\n",
        "    # bins_var = [0]\n",
        "    # if time_step == True:\n",
        "    #     mul_factor = 15\n",
        "    #     amount_limit = 50\n",
        "    #     for i in range(1,amount_limit):\n",
        "    #         bins_var.append(i*mul_factor)\n",
        "    # else:\n",
        "    #     for i in range(1,amount_limit):\n",
        "    #         bins_var.append(i*mul_factor)\n",
        "\n",
        "    amt_plot = sns.histplot(data=df, x=column, color=bar_color)\n",
        "    amt_plot.set_xlabel(xLabel)\n",
        "    amt_plot.set_ylabel(yLabel)\n",
        "    amt_plot.set_title(title)\n",
        "\n",
        "\n",
        "# Iterate over numeric columns\n",
        "for i in train.as_data_frame().columns:\n",
        "\n",
        "\n",
        "    Plot_Dis(train.as_data_frame(), i, \"Distribution of Train and Test data for variable \"+ i,i, 'Count', 2, 40, 'green')\n",
        "\n",
        "    Plot_Dis(test.as_data_frame(), i, \"Distribution of Train and Test data for variable \"+i,i, 'Count', 2, 40, 'orange')\n",
        "    plt.legend(loc='upper right', labels=['Train', 'Test'])\n",
        "    plt.figure(figsize=(6,6))\n",
        "    plt.show()\n",
        "\n",
        "\n"
      ]
    },
    {
      "cell_type": "code",
      "execution_count": 45,
      "id": "vRA5cmkRB9B4",
      "metadata": {
        "id": "vRA5cmkRB9B4"
      },
      "outputs": [
        {
          "name": "stdout",
          "output_type": "stream",
          "text": [
            "AutoML progress: |\n",
            "01:11:47.920: AutoML: XGBoost is not available; skipping it.\n",
            "\n",
            "████████████████████████████████████████████"
          ]
        }
      ],
      "source": [
        "# Initialize and train the AutoML model\n",
        "aml = H2OAutoML(max_models=20, seed=42, exclude_algos=[\"StackedEnsemble\"],max_runtime_secs=1200,nfolds=5,balance_classes=True)\n",
        "aml.train(x=x, y=y, training_frame=train)\n"
      ]
    },
    {
      "cell_type": "code",
      "execution_count": null,
      "id": "7b66b88b",
      "metadata": {
        "collapsed": true,
        "id": "7b66b88b"
      },
      "outputs": [],
      "source": [
        "# View the leaderboard (models ranked by performance)\n",
        "leaderboard = aml.leaderboard\n",
        "leaderboard\n"
      ]
    },
    {
      "cell_type": "code",
      "execution_count": null,
      "id": "11db2561",
      "metadata": {
        "id": "11db2561"
      },
      "outputs": [],
      "source": [
        "# Get the best model\n",
        "best_model = aml.leader"
      ]
    },
    {
      "cell_type": "code",
      "execution_count": null,
      "id": "82366a27",
      "metadata": {
        "id": "82366a27"
      },
      "outputs": [],
      "source": [
        "# Make predictions on the test set\n",
        "predictions = best_model.predict(test)\n",
        "\n",
        "# View the predictions\n",
        "predictions"
      ]
    },
    {
      "cell_type": "code",
      "execution_count": null,
      "id": "a06a4ff0",
      "metadata": {
        "id": "a06a4ff0"
      },
      "outputs": [],
      "source": [
        "perf = best_model.model_performance(test)\n",
        "perf"
      ]
    },
    {
      "cell_type": "markdown",
      "id": "0054577b",
      "metadata": {
        "id": "0054577b"
      },
      "source": [
        "##### Model Metrics on train data"
      ]
    },
    {
      "cell_type": "code",
      "execution_count": null,
      "id": "99f6da70",
      "metadata": {
        "id": "99f6da70"
      },
      "outputs": [],
      "source": [
        "best_model"
      ]
    },
    {
      "cell_type": "markdown",
      "id": "4984049b",
      "metadata": {
        "id": "4984049b"
      },
      "source": [
        "##### Model metrics on test data"
      ]
    },
    {
      "cell_type": "code",
      "execution_count": null,
      "id": "1de78bec",
      "metadata": {
        "id": "1de78bec"
      },
      "outputs": [],
      "source": [
        "perf"
      ]
    },
    {
      "cell_type": "markdown",
      "id": "0bde961a",
      "metadata": {
        "id": "0bde961a"
      },
      "source": [
        "**Findings - metrics comparison**\n",
        "\n",
        "Comparing metrics such as MSE, RMSE, LogLoss,Mean Per-Class Error, AUC for both test and training data from cross-validation, we see that the difference in metrics is marginal. Hence, it is evident that the model has not overfit on training data.\n"
      ]
    },
    {
      "cell_type": "markdown",
      "id": "B9MLWk4J-6jM",
      "metadata": {
        "id": "B9MLWk4J-6jM"
      },
      "source": [
        "### Modeling after Removal of Outliers"
      ]
    },
    {
      "cell_type": "code",
      "execution_count": null,
      "id": "nID_IDEnwMOn",
      "metadata": {
        "id": "nID_IDEnwMOn"
      },
      "outputs": [],
      "source": [
        "### Remove outliers from Data based on Inter Quartile Range(IQR)\n",
        "\n",
        "##IQR = Quartile3 – Quartile1\n",
        "## Function to identify outliers.\n",
        "## Returns lists of row numbers of upper outliers and lower outliers for each numeric variable\n",
        "\n",
        "def IQR(df, column):\n",
        "\n",
        "    # Calculate Quartile 1 and Quartile 3\n",
        "    Q1 = df[column].quantile(0.25)\n",
        "    Q3 = df[column].quantile(0.75)\n",
        "\n",
        "    # Inter Quartile Range\n",
        "    IQR = Q3 - Q1\n",
        "\n",
        "    # Calculate the upper and lower limits\n",
        "    lower = Q1 - 1.5*IQR\n",
        "    upper = Q3 + 1.5*IQR\n",
        "\n",
        "    # Create arrays of Boolean values indicating the outlier rows\n",
        "    upper_array = np.where(df[column]>=upper)[0]\n",
        "    lower_array = np.where(df[column]<=lower)[0]\n",
        "\n",
        "    return upper_array, lower_array\n"
      ]
    },
    {
      "cell_type": "code",
      "execution_count": null,
      "id": "vapzpAnTwRnZ",
      "metadata": {
        "id": "vapzpAnTwRnZ"
      },
      "outputs": [],
      "source": [
        "# Function to plot histogram of Class Distribution of Outliers present in numeric variables\n",
        "\n",
        "def Plot_Hist_Class_Outlier(class_list, column):\n",
        "\n",
        "    plt.figure(figsize=(4,4))\n",
        "    plt.xlabel('Classes')\n",
        "    plt.xticks([0,1])\n",
        "    plt.title('Class Distribution of Outliers present in ' + column)\n",
        "    plt.ylabel('Class Count in Thousands')\n",
        "    plt.hist(class_list)\n",
        "    plt.show()"
      ]
    },
    {
      "cell_type": "code",
      "execution_count": null,
      "id": "DJI4hPTl3AL2",
      "metadata": {
        "id": "DJI4hPTl3AL2"
      },
      "outputs": [],
      "source": [
        "# Get the class distribution of Outliers for each numeric variable\n",
        "\n",
        "# List to store outliers cross each numeric column\n",
        "outliers = []\n",
        "\n",
        "# iterate over numeric columns\n",
        "for col in numeric_columns:\n",
        "\n",
        "    # Call IQR function to get upper and lower outliers\n",
        "    upper_array, lower_array = IQR(data_churn.as_data_frame(), col)\n",
        "\n",
        "    class_labels = []\n",
        "\n",
        "    # check if the outlier list is empty\n",
        "    if len(upper_array) > 0:\n",
        "        for i in upper_array:\n",
        "\n",
        "            # get class labels for each outlier using row number\n",
        "            c_label = data_churn.as_data_frame()['churn'][i]\n",
        "            if c_label == 0:\n",
        "                outliers.append(i)\n",
        "            class_labels.append(data_churn.as_data_frame()['churn'][i])\n",
        "\n",
        "        # Function to plot histogram of classes\n",
        "        Plot_Hist_Class_Outlier(class_labels, col)\n",
        "\n"
      ]
    },
    {
      "cell_type": "code",
      "execution_count": null,
      "id": "ETyUM-Dw3I0q",
      "metadata": {
        "id": "ETyUM-Dw3I0q"
      },
      "outputs": [],
      "source": [
        "# Removing Outliers from the Data\n",
        "outliers = list(set(outliers))\n",
        "\n",
        "# make a copy of original data for further analysis before removing outliers\n",
        "data_churn_copy = data_churn.as_data_frame().copy()\n",
        "\n",
        "# Remove outliers\n",
        "\n",
        "keep_rows_index = h2o.H2OFrame(list(map(lambda x: x not in outliers, range(data_churn.nrow))))\n",
        "\n",
        "# Remove rows based on the logical index\n",
        "filtered_frame = data_churn[keep_rows_index, :]\n",
        "\n"
      ]
    },
    {
      "cell_type": "code",
      "execution_count": null,
      "id": "B6qwWoHTDmMt",
      "metadata": {
        "id": "B6qwWoHTDmMt"
      },
      "outputs": [],
      "source": [
        "data_churn = filtered_frame"
      ]
    },
    {
      "cell_type": "code",
      "execution_count": null,
      "id": "MF28pjgHCcZp",
      "metadata": {
        "id": "MF28pjgHCcZp"
      },
      "outputs": [],
      "source": [
        "# Define features and target variable\n",
        "x = data_churn.columns[:-1]  # Features\n",
        "y = data_churn.columns[-1]   # Target variable\n",
        "\n",
        "# Split the data into train and test sets\n",
        "train, test = data_churn.split_frame(ratios=[0.8], seed=42, destination_frames=[\"train\", \"test\"])\n",
        "\n"
      ]
    },
    {
      "cell_type": "code",
      "execution_count": null,
      "id": "XU08QTwVCfOh",
      "metadata": {
        "id": "XU08QTwVCfOh"
      },
      "outputs": [],
      "source": [
        "# Plotting the distribution plot for train and test data\n",
        "\n",
        "# Iterate over numeric columns\n",
        "for i in train.as_data_frame().columns:\n",
        "\n",
        "\n",
        "    Plot_Dis(train.as_data_frame(), i, \"Distribution of Train and Test data for variable \"+ i,i, 'Count', 2, 40, 'green')\n",
        "\n",
        "    Plot_Dis(test.as_data_frame(), i, \"Distribution of Train and Test data for variable \"+i,i, 'Count', 2, 40, 'orange')\n",
        "    plt.legend(loc='upper right', labels=['Train', 'Test'])\n",
        "    plt.figure(figsize=(6,6))\n",
        "    plt.show()"
      ]
    },
    {
      "cell_type": "code",
      "execution_count": null,
      "id": "EHbFeumwDG5D",
      "metadata": {
        "id": "EHbFeumwDG5D"
      },
      "outputs": [],
      "source": [
        "# Initialize and train the AutoML model\n",
        "\n",
        "aml = H2OAutoML(max_models=20, seed=42, exclude_algos=[\"StackedEnsemble\"], max_runtime_secs=1200,nfolds=5,balance_classes=True)\n",
        "aml.train(x=x, y=y, training_frame=train)\n"
      ]
    },
    {
      "cell_type": "code",
      "execution_count": null,
      "id": "6SUKvjU-DNpN",
      "metadata": {
        "id": "6SUKvjU-DNpN"
      },
      "outputs": [],
      "source": [
        "# View the leaderboard (models ranked by performance)\n",
        "leaderboard = aml.leaderboard\n",
        "leaderboard\n"
      ]
    },
    {
      "cell_type": "code",
      "execution_count": null,
      "id": "aUXooTvwDV8s",
      "metadata": {
        "id": "aUXooTvwDV8s"
      },
      "outputs": [],
      "source": [
        "# Get the best model\n",
        "best_model = aml.leader"
      ]
    },
    {
      "cell_type": "code",
      "execution_count": null,
      "id": "8MlcfBSWDY9l",
      "metadata": {
        "id": "8MlcfBSWDY9l"
      },
      "outputs": [],
      "source": [
        "# Make predictions on the test set\n",
        "predictions = best_model.predict(test)\n",
        "\n",
        "# View the predictions\n",
        "predictions"
      ]
    },
    {
      "cell_type": "code",
      "execution_count": null,
      "id": "MQZa6rlgDcGg",
      "metadata": {
        "id": "MQZa6rlgDcGg"
      },
      "outputs": [],
      "source": [
        "perf = best_model.model_performance(test)\n",
        "perf"
      ]
    },
    {
      "cell_type": "markdown",
      "id": "hTx-ty-qD4UO",
      "metadata": {
        "id": "hTx-ty-qD4UO"
      },
      "source": [
        "##### Model Metrics on train data"
      ]
    },
    {
      "cell_type": "code",
      "execution_count": null,
      "id": "ozgTr_kGDw3D",
      "metadata": {
        "id": "ozgTr_kGDw3D"
      },
      "outputs": [],
      "source": [
        "best_model"
      ]
    },
    {
      "cell_type": "markdown",
      "id": "Xpvo6LnuD5oI",
      "metadata": {
        "id": "Xpvo6LnuD5oI"
      },
      "source": [
        "##### Model Metrics on test data"
      ]
    },
    {
      "cell_type": "code",
      "execution_count": null,
      "id": "zwF-2bICD7M_",
      "metadata": {
        "id": "zwF-2bICD7M_"
      },
      "outputs": [],
      "source": [
        "perf"
      ]
    },
    {
      "cell_type": "markdown",
      "id": "jo0EDh2YIj_y",
      "metadata": {
        "id": "jo0EDh2YIj_y"
      },
      "source": [
        "#### Impact of Outliers on the model\n",
        "**Findings**\n",
        "\n",
        "Comparing the test accuracy of both the models before and after removing outliers, it is evident that there no significant improvement\n",
        "* with outliers - 86.5%\n",
        "* without outlierS - 86.77%"
      ]
    },
    {
      "cell_type": "markdown",
      "id": "5R3B3cOnIgOV",
      "metadata": {
        "id": "5R3B3cOnIgOV"
      },
      "source": [
        "Model Overfitting"
      ]
    },
    {
      "cell_type": "markdown",
      "id": "h_LPhYOWECOE",
      "metadata": {
        "id": "h_LPhYOWECOE"
      },
      "source": [
        "**Findings - metrics comparison**\n",
        "\n",
        "Comparing metrics such as MSE, RMSE, LogLoss,Mean Per-Class Error, AUC for both test and training data from cross-validation, we see that the difference in metrics is marginal. Hence, it is evident that the model has not overfit on training data.\n"
      ]
    },
    {
      "cell_type": "markdown",
      "id": "rEo4qWGXlZqo",
      "metadata": {
        "id": "rEo4qWGXlZqo"
      },
      "source": [
        "### Remove 1%, 5%, and 10% of your data randomly and impute the values back using at least 3 imputation methods. How well did the methods recover the missing values? That is remove some data, check the % error on residuals for numeric data and check for bias and variance of the error. For categorical data, calculate the accuracy and a confusion matrix."
      ]
    },
    {
      "cell_type": "code",
      "execution_count": null,
      "id": "9rzjzC3dlgCv",
      "metadata": {
        "id": "9rzjzC3dlgCv"
      },
      "outputs": [],
      "source": [
        "\n",
        "# Function to Remove Data\n",
        "def remove_random_data(df, percent_to_remove):\n",
        "    num_rows_to_remove = int(len(df) * percent_to_remove)\n",
        "    indices_to_remove = np.random.choice(df.index, num_rows_to_remove, replace=False)\n",
        "    df_missing = df.copy()\n",
        "    df_missing.loc[indices_to_remove, 'numeric_column'] = np.nan\n",
        "    df_missing.loc[indices_to_remove, 'categorical_column'] = np.nan\n",
        "    return df_missing\n",
        "\n"
      ]
    },
    {
      "cell_type": "code",
      "execution_count": null,
      "id": "R3MnzMOSroPK",
      "metadata": {
        "id": "R3MnzMOSroPK"
      },
      "outputs": [],
      "source": [
        "# Function to Imputate Data\n",
        "def impute_data(df_missing, num_cols, cat_cols):\n",
        "    # Impute numeric columns - impute mean\n",
        "    numeric_imputer = SimpleImputer(strategy='mean')\n",
        "\n",
        "    for i in num_cols:\n",
        "      df_missing[i+'imputed'] = numeric_imputer.fit_transform(df_missing[[i]])\n",
        "\n",
        "    #K-Nearest Neighbors (KNN) Imputation for Numeric Data\n",
        "    knn_imputer = KNNImputer(n_neighbors=3)\n",
        "    for i in num_cols:\n",
        "      df_missing[i+'KNNimputed'] = knn_imputer.fit_transform(df_missing[[i]])\n",
        "\n",
        "    # Impute categorical columns\n",
        "    categorical_imputer = SimpleImputer(strategy='most_frequent')\n",
        "    for i in cat_cols:\n",
        "      df_missing[i+'imputed'] = categorical_imputer.fit_transform(df_missing[[i]])\n",
        "\n",
        "    return df_missing\n",
        "\n"
      ]
    },
    {
      "cell_type": "code",
      "execution_count": null,
      "id": "RBJ423w5roUW",
      "metadata": {
        "id": "RBJ423w5roUW"
      },
      "outputs": [],
      "source": [
        "# Function to Check % Error on Residuals for Numeric Data\n",
        "def calculate_residuals(df_original, df_imputed, numeric_column):\n",
        "    residuals = df_original[numeric_column] - df_imputed[numeric_column]\n",
        "    percent_error = (abs(residuals) / df_original[numeric_column]).mean() * 100\n",
        "    return percent_error\n",
        "\n",
        "# Function to Check for Bias and Variance of the Error\n",
        "def analyze_error(df_original, df_imputed, numeric_column):\n",
        "    residuals = df_original[numeric_column] - df_imputed[numeric_column]\n",
        "    bias = residuals.mean()\n",
        "    variance = residuals.var()\n",
        "    return bias, variance\n",
        "\n"
      ]
    },
    {
      "cell_type": "code",
      "execution_count": null,
      "id": "psPCqEvMroar",
      "metadata": {
        "id": "psPCqEvMroar"
      },
      "outputs": [],
      "source": [
        "# Calculate Accuracy and Confusion Matrix for Categorical Data\n",
        "def evaluate_categorical_accuracy(df_original, df_imputed, cat_col):\n",
        "    accuracy = accuracy_score(df_original[cat_col], df_imputed[cat_col])\n",
        "    confusion_mat = confusion_matrix(df_original[cat_col], df_imputed[cat_col])\n",
        "    return accuracy, confusion_mat\n",
        "\n",
        "\n"
      ]
    },
    {
      "cell_type": "markdown",
      "id": "KnpTw_busrdL",
      "metadata": {
        "id": "KnpTw_busrdL"
      },
      "source": [
        "#### Remove 1% Data"
      ]
    },
    {
      "cell_type": "code",
      "execution_count": null,
      "id": "CzHOGCS7r8CK",
      "metadata": {
        "id": "CzHOGCS7r8CK"
      },
      "outputs": [],
      "source": [
        "# Remove 1% of data\n",
        "df_missing_1_percent = remove_random_data(df_churn_original, 0.01)\n",
        "\n",
        "# Impute data\n",
        "df_imputed = impute_data(df_missing_1_percent, numeric_columns, cat_cols)\n",
        "\n",
        "# Check % Error on Residuals for Numeric Data\n",
        "for i in numeric_columns:\n",
        "  percent_error = calculate_residuals(df_churn_original, df_imputed, i)\n",
        "  print(f'Percent Error on Residuals: {percent_error:.2f}%')\n",
        "\n",
        "# Check for Bias and Variance of the Error\n",
        "for i in numeric_columns:\n",
        "  bias, variance = analyze_error(df_churn_original, df_imputed, i)\n",
        "  print(f'Bias: {bias:.2f}, Variance: {variance:.2f}')\n",
        "\n",
        "# Calculate Accuracy and Confusion Matrix for Categorical Data\n",
        "for i in cat_cols:\n",
        "  accuracy, confusion_mat = evaluate_categorical_accuracy(df_churn_original, df_imputed, i)\n",
        "  print(f'Accuracy: {accuracy:.2f}')\n",
        "  print('Confusion Matrix:')\n",
        "  print(confusion_mat)\n"
      ]
    },
    {
      "cell_type": "markdown",
      "id": "GsRTLNjAsy3I",
      "metadata": {
        "id": "GsRTLNjAsy3I"
      },
      "source": [
        "#### Remove 5% Data"
      ]
    },
    {
      "cell_type": "code",
      "execution_count": null,
      "id": "L3elRebxsqCC",
      "metadata": {
        "id": "L3elRebxsqCC"
      },
      "outputs": [],
      "source": [
        "# Remove 5% of data\n",
        "df_missing_5_percent = remove_random_data(df_churn_original, 0.05)\n",
        "\n",
        "# Impute data\n",
        "df_imputed = impute_data(df_missing_5_percent, numeric_columns, cat_cols)\n",
        "\n",
        "# Check % Error on Residuals for Numeric Data\n",
        "for i in numeric_columns:\n",
        "  percent_error = calculate_residuals(df_churn_original, df_imputed, i)\n",
        "  print(f'Percent Error on Residuals: {percent_error:.2f}%')\n",
        "\n",
        "# Check for Bias and Variance of the Error\n",
        "for i in numeric_columns:\n",
        "  bias, variance = analyze_error(df_churn_original, df_imputed, i)\n",
        "  print(f'Bias: {bias:.2f}, Variance: {variance:.2f}')\n",
        "\n",
        "# Calculate Accuracy and Confusion Matrix for Categorical Data\n",
        "for i in cat_cols:\n",
        "  accuracy, confusion_mat = evaluate_categorical_accuracy(df_churn_original, df_imputed, i)\n",
        "  print(f'Accuracy: {accuracy:.2f}')\n",
        "  print('Confusion Matrix:')\n",
        "  print(confusion_mat)\n"
      ]
    },
    {
      "cell_type": "markdown",
      "id": "z8kelm3xs0-l",
      "metadata": {
        "id": "z8kelm3xs0-l"
      },
      "source": [
        "#### Remove 10% Data"
      ]
    },
    {
      "cell_type": "code",
      "execution_count": null,
      "id": "KssSZj3Is4oJ",
      "metadata": {
        "id": "KssSZj3Is4oJ"
      },
      "outputs": [],
      "source": [
        "# Remove 10% of data\n",
        "df_missing_10_percent = remove_random_data(df_churn_original, 0.1)\n",
        "\n",
        "# Impute data\n",
        "df_imputed = impute_data(df_missing_10_percent, numeric_columns, cat_cols)\n",
        "\n",
        "# Check % Error on Residuals for Numeric Data\n",
        "for i in numeric_columns:\n",
        "  percent_error = calculate_residuals(df_churn_original, df_imputed, i)\n",
        "  print(f'Percent Error on Residuals: {percent_error:.2f}%')\n",
        "\n",
        "# Check for Bias and Variance of the Error\n",
        "for i in numeric_columns:\n",
        "  bias, variance = analyze_error(df_churn_original, df_imputed, i)\n",
        "  print(f'Bias: {bias:.2f}, Variance: {variance:.2f}')\n",
        "\n",
        "# Calculate Accuracy and Confusion Matrix for Categorical Data\n",
        "for i in cat_cols:\n",
        "  accuracy, confusion_mat = evaluate_categorical_accuracy(df_churn_original, df_imputed, i)\n",
        "  print(f'Accuracy: {accuracy:.2f}')\n",
        "  print('Confusion Matrix:')\n",
        "  print(confusion_mat)\n"
      ]
    },
    {
      "cell_type": "markdown",
      "id": "685713f1",
      "metadata": {
        "id": "685713f1"
      },
      "source": [
        "#### Analyse relation between independent and dependent variable\n",
        "\n",
        "- **Point Biserial Correlation**\n",
        "\n",
        "Since the dataset is a classification dataset and the target variable is categorical, we can't use Pearson Correlation. In this case, we use the Point-Biserial Correlation, which assesses the association between a binary variable (the target variable) and a continuous variable (a feature) to understand the relation between independent and dependent variable.\n",
        "\n",
        "- **Chi Square test**\n",
        "\n",
        "This test helps us understand the significance of an independent categorical variable with the target categorical variable"
      ]
    },
    {
      "cell_type": "code",
      "execution_count": null,
      "id": "478fe994",
      "metadata": {
        "id": "478fe994"
      },
      "outputs": [],
      "source": [
        "# Dataframe to store p_vals for each independent variable\n",
        "df_corr_coef = pd.DataFrame()\n",
        "\n",
        "corr_coef = {}\n",
        "\n",
        "# Calculate Point Biserial Correlation for all continuous variables\n",
        "\n",
        "for i in numeric_columns:\n",
        "\n",
        "    pt_bs, p_val = stats.pointbiserialr(df_churn_original['churn'], df_churn_original[i])\n",
        "    print(p_val)\n",
        "    corr_coef[i] = round(p_val,4)\n",
        "\n",
        "    # Determine significance\n",
        "    alpha = 0.05\n",
        "    if p_val < alpha:\n",
        "        print(\"The correlation is statistically significant.\")\n",
        "    else:\n",
        "        print(\"The correlation is not statistically significant.\")\n",
        "\n",
        "\n",
        "\n",
        "df_corr_coef['features'] = corr_coef.keys()\n",
        "df_corr_coef['p_value'] = corr_coef.values()\n",
        "\n",
        "# Add column to state the significance value of each feature\n",
        "df_corr_coef['p<0.05'] = df_corr_coef['p_value'].apply(lambda x: True if x < 0.05 else False)"
      ]
    },
    {
      "cell_type": "code",
      "execution_count": null,
      "id": "1b65759e",
      "metadata": {
        "id": "1b65759e"
      },
      "outputs": [],
      "source": [
        "# Chi Square test\n",
        "cat_cols = df_churn_original.select_dtypes(include=['object', 'category']).columns.tolist()\n",
        "cat_cols.pop(-1)\n",
        "\n",
        "for i in cat_cols:\n",
        "    print(i)\n",
        "    # Create a contingency table\n",
        "    contingency_table = pd.crosstab(df_churn_original[i], df_churn_original['churn'])\n",
        "\n",
        "    # Perform the Chi-Square test\n",
        "    chi2, p_value, dof, expected = chi2_contingency(contingency_table)\n",
        "    print(p_value)\n",
        "\n",
        "    # Determine significance\n",
        "    alpha = 0.05\n",
        "    signi = False\n",
        "    if p_value < alpha:\n",
        "        print(\"The correlation is statistically significant.\")\n",
        "        signi = True\n",
        "    else:\n",
        "        print(\"The correlation is not statistically significant.\")\n",
        "\n",
        "    df_corr_coef = df_corr_coef.append({'features':i,\n",
        "                          'p_value': round(p_value, 4),\n",
        "                          'p<0.05': signi}, ignore_index=True)"
      ]
    },
    {
      "cell_type": "code",
      "execution_count": null,
      "id": "83ddd14a",
      "metadata": {
        "id": "83ddd14a"
      },
      "outputs": [],
      "source": [
        "df_corr_coef"
      ]
    },
    {
      "cell_type": "markdown",
      "id": "76368483",
      "metadata": {
        "id": "76368483"
      },
      "source": [
        "**Findings**\n",
        "\n",
        "From Point Biserial Correlation and chi sqaure test, we find that tenure, no of credits cards held(credit_card) and estimated_salary are not significant while predicting churn of a customer.\n",
        "\n",
        "From Variable import scores obtained from AutoML metrics after the run,it is evident that tenure, no of credits cards held(credit_card) are among the least important features, however estimated_salary even though not part of top 5 important features, still has a minute influence.\n",
        "\n",
        "We can further confirm this by getting the variable important scores by running random forest algorithm"
      ]
    },
    {
      "cell_type": "code",
      "execution_count": null,
      "id": "2b8fe8bb",
      "metadata": {
        "id": "2b8fe8bb"
      },
      "outputs": [],
      "source": [
        "#### Random Forest - Variable Importance plot\n",
        "\n",
        "# dummy encode categorical variables\n",
        "df_encoded = pd.get_dummies(df_churn_original, columns=['country', 'gender', 'active_member'], drop_first=True)\n",
        "\n",
        "df_encoded"
      ]
    },
    {
      "cell_type": "code",
      "execution_count": null,
      "id": "45c77d5f",
      "metadata": {
        "id": "45c77d5f"
      },
      "outputs": [],
      "source": [
        "# h2o.init()\n",
        "# Create a feature set and target variable\n",
        "X = df_encoded.loc[:, df_encoded.columns != 'churn']\n",
        "y = df_encoded['churn']\n",
        "\n",
        "feature_names = X.columns\n",
        "\n",
        "# Run Random Forest Classifier\n",
        "forest = RandomForestClassifier(random_state=0)\n",
        "forest.fit(X, y)"
      ]
    },
    {
      "cell_type": "code",
      "execution_count": null,
      "id": "a0d987db",
      "metadata": {
        "id": "a0d987db"
      },
      "outputs": [],
      "source": [
        "# Variable Importance Plot\n",
        "\n",
        "forest_importances = pd.Series(forest.feature_importances_, index=feature_names)\n",
        "\n",
        "# Create a DataFrame to store feature names and their importance scores\n",
        "df_feature_importances = pd.DataFrame({'Feature': feature_names, 'Importance': forest_importances})\n",
        "\n",
        "# Sort by importance\n",
        "df_feature_importances = df_feature_importances.sort_values(by='Importance', ascending=False)\n",
        "\n",
        "# Create the plot\n",
        "plt.figure(figsize=(10, 6))\n",
        "plt.barh(df_feature_importances['Feature'], df_feature_importances['Importance'])\n",
        "plt.xlabel(\"Importance scores\")\n",
        "plt.title(\"Variable Importance Plot\")\n",
        "plt.show()"
      ]
    },
    {
      "cell_type": "code",
      "execution_count": null,
      "id": "500dc55d",
      "metadata": {
        "id": "500dc55d"
      },
      "outputs": [],
      "source": [
        "# Variable Importance Table\n",
        "forest_importances"
      ]
    },
    {
      "cell_type": "markdown",
      "id": "1a37f826",
      "metadata": {
        "id": "1a37f826"
      },
      "source": [
        "From the variable importance scores, it is seen that estimated_salary is doesn't feature among the least important features, but it is seen that tenure and no of credi_cards are among the least important factors. Hence we, will be dropping these two features and re-run the Point Biserial Correlation as these are numeric columns"
      ]
    },
    {
      "cell_type": "markdown",
      "id": "aa0a023c",
      "metadata": {
        "id": "aa0a023c"
      },
      "source": [
        "#### Point Biserial Correlation after removing insignificant features"
      ]
    },
    {
      "cell_type": "code",
      "execution_count": null,
      "id": "79cf599e",
      "metadata": {
        "id": "79cf599e"
      },
      "outputs": [],
      "source": [
        "df_churn_sig = df_churn_original.drop(columns=['tenure','credit_card'])\n",
        "\n",
        "numeric_columns_sig = df_churn_sig.select_dtypes(include=['float64','int64']).columns.tolist()\n",
        "numeric_columns_sig\n"
      ]
    },
    {
      "cell_type": "code",
      "execution_count": null,
      "id": "f7ccbf3d",
      "metadata": {
        "id": "f7ccbf3d"
      },
      "outputs": [],
      "source": [
        "# Dataframe to store p_vals for each independent variable\n",
        "df_corr_coef = pd.DataFrame()\n",
        "\n",
        "corr_coef = {}\n",
        "\n",
        "# Calculate Point Biserial Correlation for all continuous variables\n",
        "\n",
        "for i in numeric_columns_sig:\n",
        "\n",
        "    pt_bs, p_val = stats.pointbiserialr(df_churn_sig['churn'], df_churn_sig[i])\n",
        "    print(p_val)\n",
        "    corr_coef[i] = round(p_val,4)\n",
        "\n",
        "    # Determine significance\n",
        "    alpha = 0.05\n",
        "    if p_val < alpha:\n",
        "        print(\"The correlation is statistically significant.\")\n",
        "    else:\n",
        "        print(\"The correlation is not statistically significant.\")\n",
        "\n",
        "\n",
        "\n",
        "df_corr_coef['features'] = corr_coef.keys()\n",
        "df_corr_coef['p_value'] = corr_coef.values()\n",
        "\n",
        "# Add column to state the significance value of each feature\n",
        "df_corr_coef['p<0.05'] = df_corr_coef['p_value'].apply(lambda x: True if x < 0.05 else False)"
      ]
    },
    {
      "cell_type": "code",
      "execution_count": null,
      "id": "1739b67d",
      "metadata": {
        "id": "1739b67d"
      },
      "outputs": [],
      "source": [
        "df_corr_coef"
      ]
    },
    {
      "cell_type": "markdown",
      "id": "adcbbf6b",
      "metadata": {
        "id": "adcbbf6b"
      },
      "source": [
        "We observe that all features except estimated_salary are significant, but we will retain estimated_salary based on our previous analysis from variable importance scores from the Random forest and GBM"
      ]
    },
    {
      "cell_type": "markdown",
      "id": "e4e73475",
      "metadata": {
        "id": "e4e73475"
      },
      "source": [
        "#### Checking for Multicollinearity\n",
        "\n",
        "To check for multicollinearity in the data, we will compute the correlation matrix on independent variables and plot Pairwise Correlation to check if there are any relationships between independent variables"
      ]
    },
    {
      "cell_type": "code",
      "execution_count": null,
      "id": "87ac0a4d",
      "metadata": {
        "id": "87ac0a4d"
      },
      "outputs": [],
      "source": [
        "\n",
        "df_encoded_sig = pd.get_dummies(df_churn_sig, columns=['country', 'gender', 'active_member'], drop_first=True)\n",
        "\n",
        "df_encoded_sig.corr()"
      ]
    },
    {
      "cell_type": "code",
      "execution_count": null,
      "id": "16afef05",
      "metadata": {
        "id": "16afef05"
      },
      "outputs": [],
      "source": [
        "# Compute the correlation matrix\n",
        "corr = df_encoded_sig.corr()\n",
        "\n",
        "# Generate a mask for the upper triangle\n",
        "mask = np.triu(np.ones_like(corr, dtype=bool))\n",
        "\n",
        "# Set up the matplotlib figure\n",
        "f, ax = plt.subplots(figsize=(8, 6))\n",
        "\n",
        "# Generate a custom diverging colormap\n",
        "cmap = sns.diverging_palette(230, 20, as_cmap=True)\n",
        "\n",
        "# Draw the heatmap with the mask and correct aspect ratio\n",
        "sns.heatmap(corr, mask=mask, cmap=cmap, vmax=.3, center=0,\n",
        "            square=True, linewidths=.5, cbar_kws={\"shrink\": .5})"
      ]
    },
    {
      "cell_type": "code",
      "execution_count": null,
      "id": "bce38889",
      "metadata": {
        "id": "bce38889"
      },
      "outputs": [],
      "source": [
        "sns.pairplot(df_encoded_sig)"
      ]
    },
    {
      "cell_type": "markdown",
      "id": "e3c6a2b2",
      "metadata": {
        "id": "e3c6a2b2"
      },
      "source": [
        "**Findings on Multicollinearity**\n",
        "\n",
        "The correlation matrix and pairwise correlation plot show that there is no significant relationship among predictor variables"
      ]
    },
    {
      "cell_type": "markdown",
      "id": "b3f24a18",
      "metadata": {
        "id": "b3f24a18"
      },
      "source": [
        "#### Re-running Automl after removing insignificant features"
      ]
    },
    {
      "cell_type": "code",
      "execution_count": null,
      "id": "20d850ae",
      "metadata": {
        "id": "20d850ae"
      },
      "outputs": [],
      "source": [
        "\n",
        "df_churn_sig = h2o.import_file(\"Bank Customer Churn Prediction.csv\")\n",
        "# remove insignificant columns\n",
        "col_remove = ['tenure','credit_card', 'customer_id']\n",
        "\n",
        "\n",
        "df_churn_sig = df_churn_sig.as_data_frame().drop(col_remove, axis=1)\n",
        "df_churn_sig['active_member'] = pd.Categorical(df_churn_sig['active_member'])\n",
        "df_churn_sig['churn'] = pd.Categorical(df_churn_sig['churn'])\n",
        "df_churn_sig = h2o.H2OFrame(df_churn_sig)"
      ]
    },
    {
      "cell_type": "code",
      "execution_count": null,
      "id": "40aaed50",
      "metadata": {
        "id": "40aaed50"
      },
      "outputs": [],
      "source": [
        "# Define features and target variable\n",
        "x = df_churn_sig.columns[:-1]  # Features\n",
        "y = df_churn_sig.columns[-1]   # Target variable\n",
        "\n",
        "# exclude_algos = [\"StackedEnsemble\", \"StackedEnsemble_BestOfFamily\", \"StackedEnsemble_AllModels\"]\n",
        "# Split the data into train and test sets\n",
        "train, test = df_churn_sig.split_frame(ratios=[0.8], seed=42)\n",
        "\n",
        "# Initialize and train the AutoML model\n",
        "\n",
        "aml = H2OAutoML(max_models=20, seed=42, exclude_algos=[\"StackedEnsemble\"], max_runtime_secs=1200,nfolds=5,balance_classes=True)\n",
        "aml.train(x=x, y=y, training_frame=train)\n"
      ]
    },
    {
      "cell_type": "code",
      "execution_count": null,
      "id": "e5a61b02",
      "metadata": {
        "id": "e5a61b02"
      },
      "outputs": [],
      "source": [
        "# View the leaderboard (models ranked by performance)\n",
        "leaderboard = aml.leaderboard\n",
        "print(leaderboard)\n",
        "# Get the best model\n",
        "best_model = aml.leader"
      ]
    },
    {
      "cell_type": "code",
      "execution_count": null,
      "id": "78e37d32",
      "metadata": {
        "id": "78e37d32"
      },
      "outputs": [],
      "source": [
        "# Make predictions on the test set\n",
        "predictions = best_model.predict(test)\n",
        "\n",
        "# View the predictions\n",
        "print(predictions)"
      ]
    },
    {
      "cell_type": "code",
      "execution_count": null,
      "id": "7000e95d",
      "metadata": {
        "id": "7000e95d"
      },
      "outputs": [],
      "source": [
        "perf = best_model.model_performance(test)\n",
        "perf"
      ]
    },
    {
      "cell_type": "markdown",
      "id": "3db7fe88",
      "metadata": {
        "id": "3db7fe88"
      },
      "source": [
        "#### Hyperparameter Tuning\n",
        "\n",
        "Hyperparameter tuning is the process of finding the best combination of hyperparameters to achieve the best model performance on a dataset."
      ]
    },
    {
      "cell_type": "code",
      "execution_count": null,
      "id": "531d0695",
      "metadata": {
        "id": "531d0695"
      },
      "outputs": [],
      "source": [
        "\n",
        "# Define hyperparameter search space\n",
        "hyperparameters = {\n",
        "    'ntrees': [50, 100, 150],              # Number of trees in the ensemble\n",
        "    'max_depth': [3, 5, 7],                # Maximum depth of the trees\n",
        "    'min_rows': [10, 20, 30],             # Minimum number of observations in a leaf\n",
        "    'learn_rate': [0.1, 0.01, 0.001]      # Learning rate\n",
        "}\n",
        "\n",
        "# Initialize the GBM model\n",
        "gbm = H2OGradientBoostingEstimator()\n",
        "\n",
        "# Perform grid search\n",
        "grid = H2OGridSearch(gbm, hyperparameters)\n",
        "grid.train(x=x, y=y, training_frame=train)\n",
        "\n",
        "# Get the best model from the grid search\n",
        "best_model = grid.get_grid()[0]\n"
      ]
    },
    {
      "cell_type": "code",
      "execution_count": null,
      "id": "fd13c3a1",
      "metadata": {
        "id": "fd13c3a1"
      },
      "outputs": [],
      "source": [
        "# View the best hyperparameters\n",
        "print(\"Best Hyperparameters:\", best_model.get_params())\n",
        "\n"
      ]
    },
    {
      "cell_type": "code",
      "execution_count": null,
      "id": "d86db4db",
      "metadata": {
        "id": "d86db4db"
      },
      "outputs": [],
      "source": [
        "best_model.model_performance()"
      ]
    },
    {
      "cell_type": "markdown",
      "id": "qGZM-PUvHvZz",
      "metadata": {
        "id": "qGZM-PUvHvZz"
      },
      "source": [
        "## Model Interpretability"
      ]
    },
    {
      "cell_type": "markdown",
      "id": "7m0VzCdWH9Yn",
      "metadata": {
        "id": "7m0VzCdWH9Yn"
      },
      "source": [
        "### **Fit Linear Model - Logistic Regression**\n",
        "\n",
        "Since this is a classification problem, we will be fitting a Logistic regression model on the data, and interpret the co-efficients of each independent variable to understand the it's respective effect on the prediction of the target varible (churn). As the data is highly imbalanced we will be performing a stratefied sampling on the test set has a distribution that closely represents the original distribution."
      ]
    },
    {
      "cell_type": "code",
      "execution_count": null,
      "id": "t55d5Ti3Huoa",
      "metadata": {
        "id": "t55d5Ti3Huoa"
      },
      "outputs": [],
      "source": [
        "# dummy encode categorical variables\n",
        "df_encoded = pd.get_dummies(df_churn_original, columns=['country', 'gender', 'active_member'], drop_first=True)\n",
        "\n",
        "df_encoded['churn'] = pd.Categorical(df_churn_original['churn'])"
      ]
    },
    {
      "cell_type": "code",
      "execution_count": null,
      "id": "EXgXaOthIKo1",
      "metadata": {
        "id": "EXgXaOthIKo1"
      },
      "outputs": [],
      "source": [
        "# Create a feature set and target variable\n",
        "# df_encoded = df_encoded.drop(['customer_id'], axis=1)\n",
        "\n",
        "X = df_encoded.loc[:, df_encoded.columns != 'churn']\n",
        "y = df_encoded['churn']\n",
        "\n",
        "# Performing Stratefied Sampling to generate a test set with 25% samples from each class\n",
        "X_train, X_test, y_train, y_test =  train_test_split(X, y, test_size=0.25, random_state=42, stratify=df_encoded[['churn']])\n"
      ]
    },
    {
      "cell_type": "code",
      "execution_count": null,
      "id": "TElAvmktIOFX",
      "metadata": {
        "id": "TElAvmktIOFX"
      },
      "outputs": [],
      "source": [
        "# Train a logistic regression model\n",
        "logistic_reg_model = LogisticRegression()\n",
        "logistic_reg_model.fit(X_train, y_train)\n",
        "\n",
        "# Make predictions on the test set\n",
        "y_pred = logistic_reg_model.predict(X_test)\n",
        "\n",
        "# Evaluate the model\n",
        "accuracy = accuracy_score(y_test, y_pred)\n",
        "print(f\"Accuracy: {accuracy:.2f}\")\n",
        "\n",
        "# Display classification report\n",
        "print(\"Classification Report:\\n\", classification_report(y_test, y_pred))"
      ]
    },
    {
      "cell_type": "code",
      "execution_count": null,
      "id": "rP_0B9DYIPQ7",
      "metadata": {
        "id": "rP_0B9DYIPQ7"
      },
      "outputs": [],
      "source": [
        "# Get the coefficients and intercept\n",
        "coefficients = logistic_reg_model.coef_\n",
        "intercept = logistic_reg_model.intercept_\n",
        "\n",
        "# # Interpret the coefficients\n",
        "# print(\"Co efficients of the model : \\n\")\n",
        "# for feature, coef in zip(X_train.columns.to_list(), coefficients.tolist()[0]):\n",
        "#     print(f\"{feature}: {coef}\")\n",
        "\n",
        "print(\"------------------------------\")\n",
        "# Evaluate the model\n",
        "mse = mean_squared_error(y_test, y_pred)\n",
        "print(f\"Mean Squared Error: {mse}\")"
      ]
    },
    {
      "cell_type": "code",
      "execution_count": null,
      "id": "FXfAZY9vIVkH",
      "metadata": {
        "id": "FXfAZY9vIVkH"
      },
      "outputs": [],
      "source": [
        "# Predict probabilities on the test set\n",
        "y_proba = logistic_reg_model.predict_proba(X_test)[:, 1]\n",
        "\n",
        "# Calculate ROC curve\n",
        "fpr, tpr, thresholds = roc_curve(y_test, y_proba)\n",
        "\n",
        "# Calculate AUC\n",
        "roc_auc = auc(fpr, tpr)\n",
        "\n",
        "# Plot ROC curve\n",
        "plt.figure(figsize=(8, 6))\n",
        "plt.plot(fpr, tpr, color='darkorange', lw=2, label=f'ROC curve (AUC = {roc_auc:.2f})')\n",
        "plt.plot([0, 1], [0, 1], color='navy', lw=2, linestyle='--')\n",
        "plt.xlabel('False Positive Rate')\n",
        "plt.ylabel('True Positive Rate')\n",
        "plt.title('Receiver Operating Characteristic (ROC) Curve')\n",
        "plt.legend(loc='lower right')\n",
        "plt.show()"
      ]
    },
    {
      "cell_type": "markdown",
      "id": "X3I9wuSaIdOF",
      "metadata": {
        "id": "X3I9wuSaIdOF"
      },
      "source": [
        "### Interpret Co-efficients (β) of the *model*\n",
        "\n",
        "#### Odds Ratio:\n",
        "\n",
        "It represents the change in odds for a one-unit increase in the predictor variable. An odds ratio of 1 implies no change in odds, an odds ratio greater than 1 implies an increase in odds, and an odds ratio less than 1 implies a decrease in odds."
      ]
    },
    {
      "cell_type": "code",
      "execution_count": null,
      "id": "VW5PKURaIjco",
      "metadata": {
        "id": "VW5PKURaIjco"
      },
      "outputs": [],
      "source": [
        "# Create a summary DataFrame\n",
        "summary_data = pd.DataFrame({'Feature': X_train.columns.to_list(), 'Coefficient': coefficients.tolist()[0]})\n",
        "# summary_data.loc[len(summary_data)] = ['Intercept', intercept]\n",
        "summary_data['Odds Ratio'] = np.exp(coefficients.tolist()[0])\n",
        "\n",
        "# Display the summary\n",
        "print(\"Logistic Regression Model Summary:\")\n",
        "print(summary_data)\n",
        "\n",
        "\n",
        "# Model Intercept\n",
        "print(\"\\n Intercept : \", intercept)"
      ]
    },
    {
      "cell_type": "markdown",
      "id": "VCNCETYdInpE",
      "metadata": {
        "id": "VCNCETYdInpE"
      },
      "source": [
        "**Findings**\n",
        "\n",
        "* We observe that age has an odds ratio slightly greater than 1, which implies that there is a slight chance of customer churn based on age\n",
        "* Account Balance is 1, which is neutral and does not have any effect on the prediction"
      ]
    },
    {
      "cell_type": "markdown",
      "id": "dytZTd3mIty1",
      "metadata": {
        "id": "dytZTd3mIty1"
      },
      "source": [
        "#### Magnitude of Co-efficients\n",
        "\n",
        "The magnitude of coefficients indicates the strength of the relationship. Larger coefficients have a more significant impact on the log-odds."
      ]
    },
    {
      "cell_type": "code",
      "execution_count": null,
      "id": "CWRWQEpkIwZ7",
      "metadata": {
        "id": "CWRWQEpkIwZ7"
      },
      "outputs": [],
      "source": [
        "# Create a bar plot for coefficient magnitudes\n",
        "coefficients = np.abs(logistic_reg_model.coef_[0])\n",
        "feature_names = X_train.columns\n",
        "\n",
        "plt.figure(figsize=(10, 6))\n",
        "sns.barplot(x=coefficients, y=feature_names)\n",
        "plt.title('Absolute Magnitude of Logistic Regression Coefficients')\n",
        "plt.xlabel('Coefficient Magnitude')\n",
        "plt.ylabel('Feature Names')\n",
        "plt.show()"
      ]
    },
    {
      "cell_type": "markdown",
      "id": "K-X7YeKNIzd0",
      "metadata": {
        "id": "K-X7YeKNIzd0"
      },
      "source": [
        "**Findings**\n",
        "\n",
        "From the coefficient magnitude plot above we see that **age**, **credit_score** and **active_member** status are the top 3 most significant independent variables that impact the prediction of customer churn\n"
      ]
    },
    {
      "cell_type": "markdown",
      "id": "dyTyXl6NI16v",
      "metadata": {
        "id": "dyTyXl6NI16v"
      },
      "source": [
        "#### Sign of Coefficients:\n",
        "\n",
        "The sign of each coefficient (β) indicates the direction of the relationship with the log-odds of the positive outcome. Positive coefficients increase the log-odds, while negative coefficients decrease the log-odds."
      ]
    },
    {
      "cell_type": "code",
      "execution_count": null,
      "id": "wqfkqunaI6m8",
      "metadata": {
        "id": "wqfkqunaI6m8"
      },
      "outputs": [],
      "source": [
        "# Create a coefficient plot for signs\n",
        "plt.figure(figsize=(10, 6))\n",
        "sns.barplot(x=logistic_reg_model.coef_[0], y=feature_names)\n",
        "plt.title('Logistic Regression Coefficients')\n",
        "plt.xlabel('Coefficient Value')\n",
        "plt.ylabel('Feature Names')\n",
        "plt.show()\n"
      ]
    },
    {
      "cell_type": "markdown",
      "id": "4IP2KvLXI92P",
      "metadata": {
        "id": "4IP2KvLXI92P"
      },
      "source": [
        "**Findings**\n",
        "\n",
        "The above plot signifies the relationship of the coeddicients on the log odds, mean positive relationship increases the possibility of churn, while -ve relationship reduces churn:\n",
        "\n",
        "* age variable is positively impacts the posibility of churn\n",
        "* credit_score; A person with a high credit score is less likely to churn, vice versa\n",
        "* similarly for active_member status, an active customer is less likely to churn\n",
        "* gender does significantly impact the prediction, where male customers are less likely to churn\n"
      ]
    },
    {
      "cell_type": "markdown",
      "id": "S6nwbQ5_JBtM",
      "metadata": {
        "id": "S6nwbQ5_JBtM"
      },
      "source": [
        "### Fit a Tree Model - **Decision Tree**\n",
        "\n",
        "We will fit a Decision Tree on the data and understand the branching conditions and node characteristics. We will visualize the tree to interpret the node attributes and branch conditions. For ease of interpretation we have limited the max depth of the decision tree to 3"
      ]
    },
    {
      "cell_type": "code",
      "execution_count": null,
      "id": "feMyPgHDJJIA",
      "metadata": {
        "id": "feMyPgHDJJIA"
      },
      "outputs": [],
      "source": [
        "from sklearn.tree import DecisionTreeClassifier\n",
        "from sklearn.tree import export_text\n",
        "\n",
        "# df_tree = df_encoded.drop(['customer_id'], axis=1)\n",
        "\n",
        "df_tree = df_encoded.copy()\n",
        "df_tree['churn'] = pd.Categorical(df_tree['churn'])\n",
        "\n",
        "X = df_tree.loc[:, df_tree.columns != 'churn']\n",
        "y = df_tree['churn']\n",
        "\n",
        "# Performing Stratefied Sampling to generate a test set with 25% samples from each class\n",
        "X_train, X_test, y_train, y_test =  train_test_split(X, y, test_size=0.25, random_state=42, stratify=df_tree[['churn']])\n",
        "\n",
        "\n",
        "# Fit the tree-based model\n",
        "tree_model = DecisionTreeClassifier(max_depth=3)\n",
        "tree_model.fit(X_train, y_train)\n",
        "\n",
        "# Interpret the nodes\n",
        "tree_rules = export_text(tree_model, feature_names=list(X.columns))\n",
        "print(tree_rules)"
      ]
    },
    {
      "cell_type": "markdown",
      "id": "cAH2il53JMUk",
      "metadata": {
        "id": "cAH2il53JMUk"
      },
      "source": [
        "### Interpret Decision Tree\n",
        "\n",
        "As seen above, age is the most prominent feature, as it impacts the decision of creating branches at the top order of the tree. active_member status and products_number features significantly impact the further creation of the nodes."
      ]
    },
    {
      "cell_type": "code",
      "execution_count": null,
      "id": "Xt_UpO0eJPbS",
      "metadata": {
        "id": "Xt_UpO0eJPbS"
      },
      "outputs": [],
      "source": [
        "# Make predictions on the test set\n",
        "y_pred = tree_model.predict(X_test)\n",
        "\n",
        "# Evaluate the model performance\n",
        "accuracy = accuracy_score(y_test, y_pred)\n",
        "conf_matrix = confusion_matrix(y_test, y_pred)\n",
        "classification_report_str = classification_report(y_test, y_pred)\n",
        "\n",
        "# Display results\n",
        "print(f\"Accuracy: {accuracy:.2f}\")\n",
        "print(\"Confusion Matrix:\")\n",
        "print(conf_matrix)\n",
        "print(\"Classification Report:\")\n",
        "print(classification_report_str)"
      ]
    },
    {
      "cell_type": "markdown",
      "id": "gjBvjHW1JUqd",
      "metadata": {
        "id": "gjBvjHW1JUqd"
      },
      "source": [
        "#### Decision Tree Visualization"
      ]
    },
    {
      "cell_type": "code",
      "execution_count": null,
      "id": "dT8z4LypJXET",
      "metadata": {
        "id": "dT8z4LypJXET"
      },
      "outputs": [],
      "source": [
        "plt.figure(figsize=(64, 32))\n",
        "plot_tree(tree_model, filled=True, feature_names=X_train.columns.to_list(), class_names=X_train.columns.to_list(), rounded=True)\n",
        "plt.show()"
      ]
    },
    {
      "cell_type": "markdown",
      "id": "RBRAP6fgJZ9e",
      "metadata": {
        "id": "RBRAP6fgJZ9e"
      },
      "source": [
        "**Findings**\n",
        "\n",
        "* We see that age, products_number, and active_member status have a high influence on the process of creating a decision\n",
        "* As observed on the left sub tree pertaining to products_number as the decision feature, we see that the gini impurity is reducing as the nodes go deeper indicating the formation of pure nodes(having instances belonging to the same class)\n",
        "* The threshold of the root node(age) depicts that ~80% of the population is <= 42 years\n",
        "* The left tree generated via products_number feature depicts the skewed nature of the data, with over 85% of the population subscribing to < 2 bank products"
      ]
    },
    {
      "cell_type": "markdown",
      "id": "lIAoPo6oJfw4",
      "metadata": {
        "id": "lIAoPo6oJfw4"
      },
      "source": [
        "### Interpret  Best Model from AutoML\n",
        "\n",
        "We will be using the best model from the automl section above"
      ]
    },
    {
      "cell_type": "code",
      "execution_count": null,
      "id": "u6GF4CSRKPwN",
      "metadata": {
        "id": "u6GF4CSRKPwN"
      },
      "outputs": [],
      "source": [
        "# Best Model\n",
        "\n",
        "perf = best_model.model_performance(test)\n",
        "perf"
      ]
    },
    {
      "cell_type": "code",
      "execution_count": null,
      "id": "Jw6rwsJkJise",
      "metadata": {
        "id": "Jw6rwsJkJise"
      },
      "outputs": [],
      "source": [
        "# Make predictions on the test set\n",
        "predictions = best_model.predict(test)\n",
        "\n",
        "# View the predictions\n",
        "predictions"
      ]
    },
    {
      "cell_type": "markdown",
      "id": "MH9obpPTKZg3",
      "metadata": {
        "id": "MH9obpPTKZg3"
      },
      "source": [
        "### Interpret the automl model summary\n",
        "\n",
        "**Findings**\n",
        "\n",
        "* Types of models utilized for training and testing : tree based models (GBM), Deep Learning Models etc\n",
        "* We observe that Gradient Boosting Machine with the hyperparameters (number_of_trees:46, min_depth:9, max_depth:15) is the top performing model with a mean accuracy of ~84.8%\n",
        "* age, products_number and balance are the 3 most important features impacting the predictions of the model"
      ]
    },
    {
      "cell_type": "markdown",
      "id": "m8hKbSXRKgHz",
      "metadata": {
        "id": "m8hKbSXRKgHz"
      },
      "source": [
        "## SHapley Additive exPlanations (SHAP) Analysis\n",
        "\n",
        "SHAP values help in explaining the output of any machine learning model. SHAP values depict the significance of each feature over other features and each feature's contribution to final prediction.\n",
        "\n",
        "\n",
        "### Logistic Regression"
      ]
    },
    {
      "cell_type": "code",
      "execution_count": null,
      "id": "U8Fm9W7aKlwJ",
      "metadata": {
        "id": "U8Fm9W7aKlwJ"
      },
      "outputs": [],
      "source": [
        "# For linear model\n",
        "explainer_linear = shap.Explainer(logistic_reg_model.predict, X_train)\n",
        "shap_values_linear = explainer_linear.shap_values(X_test)\n",
        "\n",
        "# Visualize SHAP values (example for linear model)\n",
        "shap.summary_plot(shap_values_linear, X_test)"
      ]
    },
    {
      "cell_type": "markdown",
      "id": "dEh5jePqKvwX",
      "metadata": {
        "id": "dEh5jePqKvwX"
      },
      "source": [
        "**Findings**\n",
        "\n",
        "* age has the highest impact on positively affectively the model's predictions when identifying a highly likely scenario of a customer churn\n",
        "* High credit_score implies lower churn rate, lower credit score implies higher churn rate\n",
        "* Balance is evenly distributed\n",
        "* Higher Estimated salary - lower churn rate"
      ]
    },
    {
      "cell_type": "markdown",
      "id": "iDpctYlHKzP8",
      "metadata": {
        "id": "iDpctYlHKzP8"
      },
      "source": [
        "### Decision Tree\n",
        "\n"
      ]
    },
    {
      "cell_type": "code",
      "execution_count": null,
      "id": "n7_ATB0tK2iP",
      "metadata": {
        "id": "n7_ATB0tK2iP"
      },
      "outputs": [],
      "source": [
        "# For tree-based model\n",
        "explainer_tree = shap.TreeExplainer(tree_model)\n",
        "shap_values_tree = explainer_tree.shap_values(X_test)\n",
        "\n",
        "# Visualize SHAP values\n",
        "shap.summary_plot(shap_values_tree, X_test)"
      ]
    },
    {
      "cell_type": "code",
      "execution_count": null,
      "id": "xPuKRbnKK6xk",
      "metadata": {
        "id": "xPuKRbnKK6xk"
      },
      "outputs": [],
      "source": [
        "# Decision Tree model\n",
        "explainer_tree = shap.Explainer(tree_model.predict, X_train)\n",
        "shap_values_tree = explainer_tree.shap_values(X_test)\n",
        "# Visualize SHAP values\n",
        "shap.summary_plot(shap_values_tree, X_test)"
      ]
    },
    {
      "cell_type": "markdown",
      "id": "7oYRDXKiK_J0",
      "metadata": {
        "id": "7oYRDXKiK_J0"
      },
      "source": [
        "**Findings**\n",
        "\n",
        "* age, products_number and active_member status are most significant variables influencing the model's prediction\n",
        "* An increase in age results in increase in the chance of churn\n",
        "* An active_member is less likely to churn"
      ]
    },
    {
      "cell_type": "markdown",
      "id": "Q40rtyPwLHe6",
      "metadata": {
        "id": "Q40rtyPwLHe6"
      },
      "source": [
        "### AutoML best model - Gradient Boosting Machine\n"
      ]
    },
    {
      "cell_type": "code",
      "execution_count": null,
      "id": "RjpcuuUxLONs",
      "metadata": {
        "id": "RjpcuuUxLONs"
      },
      "outputs": [],
      "source": [
        "\n",
        "# best_model.explain(frame=data_churn)\n",
        "best_model.shap_summary_plot(frame=data_churn)"
      ]
    },
    {
      "cell_type": "markdown",
      "id": "pWp7XoM5LRa9",
      "metadata": {
        "id": "pWp7XoM5LRa9"
      },
      "source": [
        "**Findings**\n",
        "\n",
        "* age, products_number and active_member status are most significant variables influencing the model's prediction\n",
        "* customer with higher product subscription is less likely to churn, except for a few exceptions as seen from the sparse sequence of observations in the graph above\n",
        "* Higher activity lower churn rate"
      ]
    },
    {
      "cell_type": "markdown",
      "id": "WN1n0pTtLT_N",
      "metadata": {
        "id": "WN1n0pTtLT_N"
      },
      "source": [
        "## Partial Dependence Plots (PDP)\n",
        "\n",
        "Partial Dependence Plots help in interpreting the impact of individual features on the model's predictions by providing insights into the relationship between a feature and the predicted response of the target. It shows the marginal effect of a feature on the predicted outcome of a machine learning model while keeping other features constant.\n",
        "\n",
        "### Logistic Regression"
      ]
    },
    {
      "cell_type": "code",
      "execution_count": null,
      "id": "xtXu858wLZCG",
      "metadata": {
        "id": "xtXu858wLZCG"
      },
      "outputs": [],
      "source": [
        "for i in X_train.columns.to_list():\n",
        "#     print(i)\n",
        "    PartialDependenceDisplay.from_estimator(logistic_reg_model, X_train, [i])"
      ]
    },
    {
      "cell_type": "markdown",
      "id": "o7LQgenQLcKX",
      "metadata": {
        "id": "o7LQgenQLcKX"
      },
      "source": [
        "**Findings**\n",
        "\n",
        "* credit_score, tenure, products_number,credit_card, estimated_salary, gender and active_member status lower the possibility of churn. A higher value of these variables indicates lower churn rate\n",
        "* as balance and age increases, the model predicts a higher probability of customer churn"
      ]
    },
    {
      "cell_type": "markdown",
      "id": "S1x95F9nLgTk",
      "metadata": {
        "id": "S1x95F9nLgTk"
      },
      "source": [
        "### Decision Tree"
      ]
    },
    {
      "cell_type": "code",
      "execution_count": null,
      "id": "taA9wTtwLixW",
      "metadata": {
        "id": "taA9wTtwLixW"
      },
      "outputs": [],
      "source": [
        "for i in X_train.columns.to_list():\n",
        "    PartialDependenceDisplay.from_estimator(tree_model, X_train, [i])"
      ]
    },
    {
      "cell_type": "markdown",
      "id": "cH1XtFieLloP",
      "metadata": {
        "id": "cH1XtFieLloP"
      },
      "source": [
        "**Findings**\n",
        "\n",
        "* an increase in age and balance results in higher churn rate\n",
        "* Higher activity implies lower churn"
      ]
    },
    {
      "cell_type": "markdown",
      "id": "zBwirItULogk",
      "metadata": {
        "id": "zBwirItULogk"
      },
      "source": [
        "### AutoML - Gradient Boosting Machine"
      ]
    },
    {
      "cell_type": "code",
      "execution_count": null,
      "id": "Mxy3iCAPLu0J",
      "metadata": {
        "id": "Mxy3iCAPLu0J"
      },
      "outputs": [],
      "source": [
        "for i in train.col_names:\n",
        "    best_model.pd_plot(frame=train, column=i)"
      ]
    },
    {
      "cell_type": "markdown",
      "id": "Kz141G3wLy0B",
      "metadata": {
        "id": "Kz141G3wLy0B"
      },
      "source": [
        "**Findings**\n",
        "\n",
        "* an increase in age and balance results in higher churn rate\n",
        "* Higher activity implies lower churn"
      ]
    },
    {
      "cell_type": "markdown",
      "id": "CRoeLhh9L1rH",
      "metadata": {
        "id": "CRoeLhh9L1rH"
      },
      "source": [
        "## Individual conditional expectation (ICE) plots\n",
        "\n",
        "Individual conditional expectation (ICE) plots are similar to Partial Dependence Plots, where ICE plots are used to interpret the effect of individual instances of features, and helps in understanding the change caused in the predictions when the value of a specific features changes.  "
      ]
    },
    {
      "cell_type": "markdown",
      "id": "guwTrjj5L4oY",
      "metadata": {
        "id": "guwTrjj5L4oY"
      },
      "source": [
        "### Logistic Regression"
      ]
    },
    {
      "cell_type": "code",
      "execution_count": null,
      "id": "GUOiQBe2L7Ap",
      "metadata": {
        "id": "GUOiQBe2L7Ap"
      },
      "outputs": [],
      "source": [
        "for i in X_train.columns.to_list():\n",
        "    PartialDependenceDisplay.from_estimator(logistic_reg_model, X_train, [i], kind='individual')"
      ]
    },
    {
      "cell_type": "markdown",
      "id": "hG7zDjo-L-wo",
      "metadata": {
        "id": "hG7zDjo-L-wo"
      },
      "source": [
        "### Decision Tree"
      ]
    },
    {
      "cell_type": "code",
      "execution_count": null,
      "id": "UmgF7yJbL93H",
      "metadata": {
        "id": "UmgF7yJbL93H"
      },
      "outputs": [],
      "source": [
        "for i in X_train.columns.to_list():\n",
        "    PartialDependenceDisplay.from_estimator(tree_model, X_train, [i], kind='individual')"
      ]
    },
    {
      "cell_type": "markdown",
      "id": "rud2yQh1MK6s",
      "metadata": {
        "id": "rud2yQh1MK6s"
      },
      "source": [
        "### AutoML - Gradient Boosting Machine"
      ]
    },
    {
      "cell_type": "code",
      "execution_count": null,
      "id": "_bnzxboRMNUv",
      "metadata": {
        "id": "_bnzxboRMNUv"
      },
      "outputs": [],
      "source": [
        "feature_cols=['credit_score','country','gender','age','tenure','balance','products_number','credit_card','active_member','estimated_salary']"
      ]
    },
    {
      "cell_type": "code",
      "execution_count": null,
      "id": "2hNqvLuLMPaR",
      "metadata": {
        "id": "2hNqvLuLMPaR"
      },
      "outputs": [],
      "source": [
        "for i in feature_cols:\n",
        "    best_model.ice_plot(frame=train, column=i)"
      ]
    },
    {
      "cell_type": "markdown",
      "id": "05c5498d",
      "metadata": {
        "id": "05c5498d"
      },
      "source": [
        "**Q. Is the relationship significant?**\n",
        "\n",
        "We can infer if the relation in the model is significant by first computing the significance values of independent variables with the dependent variable. We check the obtained p values to determine if the relations are statistically significant. Variables with a p value < 0.05 are said to be significant. From the above analysis it is seen that credit_score, products_number, active_member status are some of the significant features, which draws parallel to real world, where an active customer, who has subscribed to many services offered by the bank and holds the a good credit score is unlikely to churn, and vice versa. Hence, we can conclude that the relationship is significant."
      ]
    },
    {
      "cell_type": "markdown",
      "id": "b3892adf",
      "metadata": {
        "id": "b3892adf"
      },
      "source": [
        "**Q. Are any model assumptions violated?**\n",
        "\n",
        "Gradient Boosting Machines do not assume linear relationship the features and target variable, hence linearity is not relevant. However we can analyze the factors below to see if the model violates any of these assumptions\n",
        "\n",
        "   **Overfitting:**\n",
        "\n",
        " A model is said to overfit if it performs well on training data and performs bad on test data. Comparing metrics such as MSE, RMSE, LogLoss,Mean Per-Class Error, AUC for both test and training data from cross-validation, we see that the difference in metrics is marginal. Hence, it is evident that the model has not overfit on training data.Therefore this assumption is not violated.\n",
        "\n",
        "\n",
        "   **Data Imbalance:**\n",
        "\n",
        "  If the data contains highly imbalanced classes then the model training process, is affected, where the model gets inclined to the majority class. This can be resolved by performing stratefied sampling, where we take a percentage of sample from each distribution which is representative of its parent distribution, while training a model, to ensure variance in the data. We are also performing k-fold cross validation to reduce the chances of overfitting and reduce bias towards majority class. Hence this assumption is not violated.\n",
        "\n",
        "   **Feature Importance:**\n",
        "\n",
        "  The features ranked by the model is in concurrence with the Point Biserial correlation, Chi square test and Variable importance scores provided by Random Forest algorithm. The model ranks credit_score, products_number, active_member status as some of the significant features, which is commensurate with real world scenarios, where an active customer, who has subscribed to many services offered by the bank and holds the a good credit score is unlikely to churn, and vice versa. Hence this assumption is not violated.\n",
        "\n",
        "   **Multicollinearity:**\n",
        "\n",
        "   It is observed that predictor variables don't have high correlation amongst themselves. Hence this assumption is not violated."
      ]
    },
    {
      "cell_type": "markdown",
      "id": "9d164434",
      "metadata": {
        "id": "9d164434"
      },
      "source": [
        "**Q. Is there any multicollinearity in the model?**\n",
        "\n",
        "As observed from the correlation matrix, it is evident that the correlation coefficient values range between -3 and +3, which signifies that there is no relationship among independent variables. The pairwise correlation plot also depicts that there is no relationship between any 2 combination of predictor variables, hence it is safe to conclude that multicollinearity doesn't exist among predictor variables in the data.\n"
      ]
    },
    {
      "cell_type": "markdown",
      "id": "15708bcb",
      "metadata": {
        "id": "15708bcb"
      },
      "source": [
        "**Q. In the multivariate models are predictor variables independent of all the other predictor variables?**\n",
        "\n",
        "Predictor variables are said to be independent of other predictor variables when there is no relation between them.\n",
        "As seen from the correlation matrix and the pairwise plot there is no relation(linear or non linear) between any two predictor variables.\n"
      ]
    },
    {
      "cell_type": "markdown",
      "id": "cd815783",
      "metadata": {
        "id": "cd815783"
      },
      "source": [
        "**Q. In multivariate models rank the most significant predictor variables and exclude insignificant ones from the model.**\n",
        "\n",
        "From the Variable Importance scores, Point Biserial correlation and Chi Square test, \"age\", \"products_number\", \"balance\" are the top 3 most significant predictor variables. \"tenure\" and \"credit_card\" have p values greater than 0.05, hence we have excluded these variables, however, even though estimated_salary has p value > 0.05, but it appears in middle order when ranking the independent variables using importance scores, hence we retain it for the analysis."
      ]
    },
    {
      "cell_type": "markdown",
      "id": "dfdaf442",
      "metadata": {
        "id": "dfdaf442"
      },
      "source": [
        "**Does the model make sense?**\n",
        "\n",
        "To determine if the model makes sense:\n",
        "* is the model overfitting on the training data?\n",
        "* are the top ranked features by the model close to real world?\n",
        "* are the evaluation metrics significant?\n",
        "\n",
        "From our analysis, we observe that the model has not violated any of previously mentioned assumptions. The top ranked features features are coinciding with the real world settings. The model produces a test accuracy of ~86%.The availability of more data and balanced class distributions would help to further improve the model metrics."
      ]
    },
    {
      "cell_type": "markdown",
      "id": "4d8a81a2",
      "metadata": {
        "id": "4d8a81a2"
      },
      "source": [
        "**Q. Does regularization help?**\n",
        "\n",
        "Regularization in machine learning is done to prevent overfitting and help the model to generalize on unseen data. In Gradient Boosting Machine (GBM), regularization is performed by tuning hyperparameters that control the complexity of the model. We doesn't use L1 or L2 regularization like linear models in GBMs, however by tweaking certain hyperparameters that control the tree structure and learning process we can perform regularization. H2O autoML by default doesn't tweak these hyperparameters. We can run the H2OGradientBoostingEstimator as shown above to get the best set of hyperparameters. On performing this step we can see that there is an improvement in model performance, hence for this dataset we can conclude that regularization has influenced the model performance.\n",
        "\n",
        "\n",
        "MSE: 0.061434731742438166\n",
        "RMSE: 0.2478603069118534\n",
        "MAE: 0.15707725716031035\n",
        "RMSLE: 0.17252003151362363\n",
        "Mean Residual Deviance: 0.061434731742438166"
      ]
    },
    {
      "cell_type": "markdown",
      "id": "074c10ef",
      "metadata": {
        "id": "074c10ef"
      },
      "source": [
        "**Q. Which independent variables are significant?**\n",
        "\n",
        "From our analysis based on Point Biserial Correlation, Chi Sqaure test and Variable Importance plot from random forest it is found that the folowing features are significant:\n",
        "\n",
        "**features**\t-    **p_value**\n",
        "\n",
        "credit_score\t- 0.0067\n",
        "\n",
        "age\t            - 0.0000\n",
        "\n",
        "balance\t        - 0.0000\n",
        "\n",
        "products_number\t- 0.0000\n",
        "\n",
        "country\t        - 0.0000\n",
        "\n",
        "gender\t        - 0.0000\n",
        "\n",
        "active_member\t- 0.0000"
      ]
    },
    {
      "cell_type": "markdown",
      "id": "cb8785d8",
      "metadata": {
        "id": "cb8785d8"
      },
      "source": [
        "**Q. Which hyperparameters are important?**\n",
        "\n",
        "In order to find the best combination of hyperparameters for a model, we perform hyperparamter tuning, to produce a model with the best performance for a dataset. Hyperparameter tuning, searches the best set of values for each hyperparameter based the limits and ranges specified.\n",
        "\n",
        "H2O autoML framework uses the H2OGridSearch class. Grid search involves specifying a range of hyperparameter values to search over, and H2O will train a model for each combination of these values and evaluate their performance to determine the best set of hyperparameters. For this analysis we are using a Gradient Boosting Machine algorithm, and upon performing hyperparameter tuning it is found that the below hyperparameters are important\n",
        "'ntrees': 50,\n",
        "'max_depth': 5,  \n",
        "'min_rows': 10,\n",
        "'learn_rate': 0.1\n"
      ]
    },
    {
      "cell_type": "markdown",
      "id": "2d65cc1d",
      "metadata": {
        "id": "2d65cc1d"
      },
      "source": [
        "## Conclusion\n",
        "\n",
        "The Gradient Boosting Machine Model performed well on the customer churn dataset giving a 86% accuracy, even with imbalanced classes with non churn having the most number of observations. Performing cross-validation and stratefied sampling while training helped reduce bias and increase the variance of the model which was evident from the predictions on the test data. Hyperparameter tuning further improved the model performance by reducing MSE, RMSE, Log Loss. age, products_number, active_member, credit_score status are most significant features across all models. Age postiviely influences the likeyhood of churn, while active_member, credit_score reduce the probability of churn"
      ]
    },
    {
      "cell_type": "markdown",
      "id": "a65fb75a",
      "metadata": {
        "id": "a65fb75a"
      },
      "source": [
        "## References\n",
        "\n",
        "* H2O AutoML framework - https://docs.h2o.ai/h2o/latest-stable/h2o-docs/welcome.html\n",
        "* Pairwise Correlation Matrix - https://seaborn.pydata.org/examples/many_pairwise_correlations.html\n",
        "* Visualizing distributions of data - https://seaborn.pydata.org/tutorial/distributions.html\n",
        "* Sklearn Metrics - https://scikit-learn.org/stable/modules/classes.html#module-sklearn.metrics\n",
        "* Random Forest - https://scikit-learn.org/stable/auto_examples/ensemble/plot_forest_importances.html\n",
        "* Shap Analysis - https://shap.readthedocs.io/en/latest/example_notebooks\n",
        "* PDP and ICE plots - https://scikitlearn.org/stable/modules/partial_dependence.html\n",
        "* Decision Tree visualization - https://mljar.com/blog/visualize-decision-tree/\n"
      ]
    },
    {
      "cell_type": "markdown",
      "id": "f9ff2efe",
      "metadata": {
        "id": "f9ff2efe"
      },
      "source": [
        "## License\n",
        "\n",
        "The algorithms were referred directly from the H2O AutoML, Sckit learn official documentation. Visualization was referred from the matplotlib and Seaborn official documentation. The remaining code was written independently. Feature importance reference is taken from eli5 offical documnetation\n",
        "\n",
        "Copyright 2023 Akshay Bharadwaj\n",
        "\n",
        "Permission is hereby granted, free of charge, to any person obtaining a copy of this software and associated documentation files (the \"Software\"), to deal in the Software without restriction, including without limitation the rights to use, copy, modify, merge, publish, distribute, sublicense, and/or sell copies of the Software, and to permit persons to whom the Software is furnished to do so, subject to the following conditions:\n",
        "\n",
        "The above copyright notice and this permission notice shall be included in all copies or substantial portions of the Software.\n",
        "\n",
        "THE SOFTWARE IS PROVIDED \"AS IS\", WITHOUT WARRANTY OF ANY KIND, EXPRESS OR IMPLIED, INCLUDING BUT NOT LIMITED TO THE WARRANTIES OF MERCHANTABILITY, FITNESS FOR A PARTICULAR PURPOSE AND NONINFRINGEMENT. IN NO EVENT SHALL THE AUTHORS OR COPYRIGHT HOLDERS BE LIABLE FOR ANY CLAIM, DAMAGES OR OTHER LIABILITY, WHETHER IN AN ACTION OF CONTRACT, TORT OR OTHERWISE, ARISING FROM, OUT OF OR IN CONNECTION WITH THE SOFTWARE OR THE USE OR OTHER DEALINGS IN THE SOFTWARE."
      ]
    }
  ],
  "metadata": {
    "colab": {
      "provenance": []
    },
    "kernelspec": {
      "display_name": "Python 3 (ipykernel)",
      "language": "python",
      "name": "python3"
    },
    "language_info": {
      "codemirror_mode": {
        "name": "ipython",
        "version": 3
      },
      "file_extension": ".py",
      "mimetype": "text/x-python",
      "name": "python",
      "nbconvert_exporter": "python",
      "pygments_lexer": "ipython3",
      "version": "3.11.0"
    }
  },
  "nbformat": 4,
  "nbformat_minor": 5
}
